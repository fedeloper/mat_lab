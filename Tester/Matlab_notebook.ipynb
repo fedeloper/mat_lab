{
 "cells": [
  {
   "cell_type": "code",
   "execution_count": null,
   "outputs": [],
   "source": [
    "# Hi this code save the model in pt and onnx format\n",
    "# The pt generated are 3: normale, with trace, with script"
   ],
   "metadata": {
    "collapsed": false
   }
  },
  {
   "cell_type": "code",
   "execution_count": null,
   "outputs": [],
   "source": [
    "import torch\n",
    "\n",
    "\n",
    "from TopicFM.src.config.default import get_cfg_defaults\n",
    "from TopicFM.src.lightning_trainer.trainer import PL_Trainer\n",
    "import pytorch_lightning as pl\n",
    "\n",
    "def get_onnx(model,dummy_image0,dummy_image1,do_pruning=False):\n",
    "    print(f'Moving model to device: cpu')\n",
    "    with torch.no_grad():\n",
    "        input_names = [\"image0\",\"image1\"]\n",
    "        output_names = [\"mk0\", \"mk1\", \"conf\",\"m_bids\"]\n",
    "        torch.onnx.export(model, (dummy_image0,dummy_image1), \"model.onnx\", verbose=True,do_constant_folding=True, opset_version=14, input_names=input_names,\n",
    "        output_names=output_names,dynamic_axes={\"image0\":{0:\"batch\",2:\"height\",3:\"width\",},\"image1\":{0:\"batch\",2:\"height\",3:\"width\",}, \"mk0\":{0:\"batch\",1:\"points\"},\"mk1\":{0:\"batch\",1:\"points\"},\"conf\":{0:\"batch\",1:\"points\"},\"m_bids\":{0:\"batch\",1:\"points\"}})\n",
    "        print(\"exported\")\n"
   ],
   "metadata": {
    "collapsed": false
   }
  },
  {
   "cell_type": "code",
   "execution_count": null,
   "outputs": [],
   "source": [
    "#from torch.testing._internal.jit_utils import clear_class_registry\n",
    "#clear_class_registry()\n",
    "def get_matcher(image_type, unlock=False):\n",
    "    print(\"hello\")\n",
    "    #args = parse_args()\n",
    "    # init default-cfg and merge it with the main- and data-cfg\n",
    "    config = get_cfg_defaults()\n",
    "    #config.merge_from_file(args.data_cfg_path)\n",
    "    pl.seed_everything(config.TRAINER.SEED)  # reproducibility\n",
    "\n",
    "    # tune when testing\n",
    "    threshold = None\n",
    "    if threshold is not None:\n",
    "        config.LOFTR.MATCH_COARSE.THR = threshold\n",
    "\n",
    "    # lightning module\n",
    "\n",
    "    matcher = PL_Trainer(config, pretrained_ckpt=\"../TopicFM/pretrained/model_best.ckpt\")\n",
    "\n",
    "    return matcher.cpu().eval()\n",
    "matcher_in = get_matcher(\"outdoor\", unlock=True).cpu().eval()\n",
    "dummy_image0 = torch.randn(1, 1, 800, 800, device=\"cpu\")\n",
    "dummy_image1 = torch.randn(1, 1, 800,800, device=\"cpu\")\n",
    "\n",
    "with torch.no_grad():\n",
    "    matcher_in.matcher(dummy_image0,dummy_image1)\n",
    "    print(\"working\")\n",
    "\n",
    "\n",
    "    traced_script_module = torch.jit.trace(matcher_in.matcher,[dummy_image0,dummy_image1])\n",
    "    torch.jit.save(traced_script_module , 'trace_model.pt')\n",
    "    torch.jit.save(torch.jit.script(matcher_in.matcher) , 'script_model.pt')\n",
    "    torch.save(matcher_in.matcher,\"model.pt\")\n",
    "\n",
    "get_onnx(traced_script_module,dummy_image0,dummy_image1,do_pruning=True)"
   ],
   "metadata": {
    "collapsed": false
   }
  },
  {
   "cell_type": "code",
   "execution_count": 2,
   "outputs": [
    {
     "name": "stdout",
     "output_type": "stream",
     "text": [
      "\u001B[1;35mYour model contains \"Tile\" ops or/and \"ConstantOfShape\" ops. Folding these ops \u001B[0m\r\n",
      "\u001B[1;35mcan make the simplified model much larger. If it is not expected, please specify\u001B[0m\r\n",
      "\u001B[1;35m\"--no-large-tensor\" (which will lose some optimization chances)\u001B[0m\r\n",
      "Simplifying\u001B[33m...\u001B[0m\r\n",
      "Finish! Here is the difference:\r\n",
      "┏━━━━━━━━━━━━━━━━━┳━━━━━━━━━━━━━━━━┳━━━━━━━━━━━━━━━━━━┓\r\n",
      "┃\u001B[1m \u001B[0m\u001B[1m               \u001B[0m\u001B[1m \u001B[0m┃\u001B[1m \u001B[0m\u001B[1mOriginal Model\u001B[0m\u001B[1m \u001B[0m┃\u001B[1m \u001B[0m\u001B[1mSimplified Model\u001B[0m\u001B[1m \u001B[0m┃\r\n",
      "┡━━━━━━━━━━━━━━━━━╇━━━━━━━━━━━━━━━━╇━━━━━━━━━━━━━━━━━━┩\r\n",
      "│ Add             │ 96             │ 96               │\r\n",
      "│ ArgMax          │ 1              │ 1                │\r\n",
      "│ Cast            │ 87             │ \u001B[1;32m30              \u001B[0m │\r\n",
      "│ Concat          │ 60             │ \u001B[1;32m56              \u001B[0m │\r\n",
      "│ Constant        │ 727            │ \u001B[1;32m335             \u001B[0m │\r\n",
      "│ ConstantOfShape │ 29             │ \u001B[1;32m1               \u001B[0m │\r\n",
      "│ Conv            │ 54             │ 54               │\r\n",
      "│ Div             │ 55             │ 55               │\r\n",
      "│ Einsum          │ 8              │ 8                │\r\n",
      "│ Elu             │ 4              │ 4                │\r\n",
      "│ Equal           │ 37             │ \u001B[1;32m14              \u001B[0m │\r\n",
      "│ Erf             │ 35             │ 35               │\r\n",
      "│ Expand          │ 38             │ 38               │\r\n",
      "│ Flatten         │ 4              │ 4                │\r\n",
      "│ Gather          │ 88             │ \u001B[1;32m86              \u001B[0m │\r\n",
      "│ GatherND        │ 4              │ 4                │\r\n",
      "│ Greater         │ 1              │ 1                │\r\n",
      "│ Identity        │ 2              │ 2                │\r\n",
      "│ If              │ 3              │ 3                │\r\n",
      "│ MatMul          │ 12             │ 12               │\r\n",
      "│ Mod             │ 2              │ 2                │\r\n",
      "│ Mul             │ 126            │ \u001B[1;32m98              \u001B[0m │\r\n",
      "│ NonZero         │ 5              │ \u001B[1;32m2               \u001B[0m │\r\n",
      "│ Not             │ 6              │ \u001B[1;32m3               \u001B[0m │\r\n",
      "│ Pad             │ 2              │ 2                │\r\n",
      "│ Pow             │ 6              │ 6                │\r\n",
      "│ Range           │ 34             │ 34               │\r\n",
      "│ Reciprocal      │ 2              │ 2                │\r\n",
      "│ ReduceMax       │ 3              │ 3                │\r\n",
      "│ ReduceMean      │ 8              │ 8                │\r\n",
      "│ ReduceSum       │ 4              │ 4                │\r\n",
      "│ Relu            │ 3              │ 3                │\r\n",
      "│ Reshape         │ 65             │ \u001B[1;32m61              \u001B[0m │\r\n",
      "│ Resize          │ 9              │ 9                │\r\n",
      "│ ScatterND       │ 8              │ 8                │\r\n",
      "│ SequenceAt      │ 4              │ 4                │\r\n",
      "│ Shape           │ 121            │ \u001B[1;32m60              \u001B[0m │\r\n",
      "│ Slice           │ 30             │ 30               │\r\n",
      "│ Softmax         │ 3              │ 3                │\r\n",
      "│ Split           │ 1              │ 1                │\r\n",
      "│ SplitToSequence │ 2              │ 2                │\r\n",
      "│ Sqrt            │ 5              │ 5                │\r\n",
      "│ Squeeze         │ 3              │ 3                │\r\n",
      "│ Sub             │ 16             │ \u001B[1;32m12              \u001B[0m │\r\n",
      "│ Transpose       │ 12             │ \u001B[1;32m9               \u001B[0m │\r\n",
      "│ Unsqueeze       │ 108            │ \u001B[1;32m103             \u001B[0m │\r\n",
      "│ Where           │ 29             │ \u001B[1;32m9               \u001B[0m │\r\n",
      "│ Model Size      │ 71.2MiB        │ \u001B[1;32m28.0MiB         \u001B[0m │\r\n",
      "└─────────────────┴────────────────┴──────────────────┘\r\n"
     ]
    }
   ],
   "source": [
    "!onnxsim model.onnx model_simplified.onnx"
   ],
   "metadata": {
    "collapsed": false
   }
  },
  {
   "cell_type": "code",
   "execution_count": null,
   "outputs": [],
   "source": [],
   "metadata": {
    "collapsed": false
   }
  }
 ],
 "metadata": {
  "kernelspec": {
   "display_name": "Python 3",
   "language": "python",
   "name": "python3"
  },
  "language_info": {
   "codemirror_mode": {
    "name": "ipython",
    "version": 2
   },
   "file_extension": ".py",
   "mimetype": "text/x-python",
   "name": "python",
   "nbconvert_exporter": "python",
   "pygments_lexer": "ipython2",
   "version": "2.7.6"
  }
 },
 "nbformat": 4,
 "nbformat_minor": 0
}
