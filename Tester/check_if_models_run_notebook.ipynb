{
 "cells": [
  {
   "cell_type": "code",
   "execution_count": 3,
   "outputs": [],
   "source": [
    "import onnxruntime as ort\n",
    "import torch\n",
    "import time\n",
    "\n",
    "def test_time(path,inputs):\n",
    "\n",
    "    providers = [(\"CPUExecutionProvider\")]\n",
    "    sess_options = ort.SessionOptions()\n",
    "    sess = ort.InferenceSession(path, sess_options=sess_options, providers=providers)\n",
    "    t0 = time.time()\n",
    "    for x in range(3):\n",
    "      outputs2 = sess.run(None,inputs )\n",
    "    t1 = time.time()\n",
    "    print(\"total time 1 inference on CPU: \",path,(t1-t0)/3)\n",
    "\n",
    "    return outputs2\n"
   ],
   "metadata": {
    "collapsed": false
   }
  },
  {
   "cell_type": "code",
   "execution_count": 4,
   "metadata": {
    "collapsed": true
   },
   "outputs": [
    {
     "name": "stdout",
     "output_type": "stream",
     "text": [
      "torch.Size([1, 2046, 5, 5])\n",
      "0\n",
      "[1, 2046, 5, 5]\n",
      "1\n"
     ]
    },
    {
     "ename": "RuntimeError",
     "evalue": "The following operation failed in the TorchScript interpreter.\nTraceback of TorchScript, serialized code (most recent call last):\n  File \"code/__torch__/TopicFM/src/models/topic_fm.py\", line 45, in forward\n    _17 = ops.prim.NumToTensor(torch.size(feat_c1, 1))\n    feat1 = torch.reshape(_14, [_16, -1, int(_17)])\n    _18 = (loftr_coarse).forward(feat0, feat1, )\n           ~~~~~~~~~~~~~~~~~~~~~ <--- HERE\n    _19 = (coarse_matching).forward(_18, _4, _5, _7, _8, _3, other, _6, other0, _0, )\n    _20, _21, _22, _23, _24, _25, _26, = _19\n  File \"code/__torch__/TopicFM/src/models/modules/transformer.py\", line 108, in forward\n    _53 = torch.slice(resized_feat, 1, 0, 9223372036854775807)\n    _54 = annotate(List[Optional[Tensor]], [new_mask])\n    _55 = torch.index_put_(_53, _54, _52)\n          ~~~~~~~~~~~~~~~~ <--- HERE\n    len_topic0 = torch.to(torch.sum(topick1, [-1]), 3)\n    selected_ids0 = torch.to(topick1, 11)\n\nTraceback of TorchScript, original code (most recent call last):\n/home/fred/PycharmProjects/Pretrained_UAV_Localization/TopicFM/src/models/modules/transformer.py(124): reduce_feat\n/home/fred/PycharmProjects/Pretrained_UAV_Localization/TopicFM/src/models/modules/transformer.py(160): forward\n/home/fred/anaconda3/envs/pythonProject/lib/python3.10/site-packages/torch/nn/modules/module.py(1176): _slow_forward\n/home/fred/anaconda3/envs/pythonProject/lib/python3.10/site-packages/torch/nn/modules/module.py(1192): _call_impl\n/home/fred/PycharmProjects/Pretrained_UAV_Localization/TopicFM/src/models/topic_fm.py(56): forward\n/home/fred/anaconda3/envs/pythonProject/lib/python3.10/site-packages/torch/nn/modules/module.py(1176): _slow_forward\n/home/fred/anaconda3/envs/pythonProject/lib/python3.10/site-packages/torch/nn/modules/module.py(1192): _call_impl\n/home/fred/anaconda3/envs/pythonProject/lib/python3.10/site-packages/torch/jit/_trace.py(957): trace_module\n/home/fred/anaconda3/envs/pythonProject/lib/python3.10/site-packages/torch/jit/_trace.py(753): trace\n/tmp/ipykernel_1792/2672823044.py(27): <module>\n/home/fred/anaconda3/envs/pythonProject/lib/python3.10/site-packages/IPython/core/interactiveshell.py(3430): run_code\n/home/fred/anaconda3/envs/pythonProject/lib/python3.10/site-packages/IPython/core/interactiveshell.py(3341): run_ast_nodes\n/home/fred/anaconda3/envs/pythonProject/lib/python3.10/site-packages/IPython/core/interactiveshell.py(3168): run_cell_async\n/home/fred/anaconda3/envs/pythonProject/lib/python3.10/site-packages/IPython/core/async_helpers.py(129): _pseudo_sync_runner\n/home/fred/anaconda3/envs/pythonProject/lib/python3.10/site-packages/IPython/core/interactiveshell.py(2970): _run_cell\n/home/fred/anaconda3/envs/pythonProject/lib/python3.10/site-packages/IPython/core/interactiveshell.py(2941): run_cell\n/home/fred/anaconda3/envs/pythonProject/lib/python3.10/site-packages/ipykernel/zmqshell.py(540): run_cell\n/home/fred/anaconda3/envs/pythonProject/lib/python3.10/site-packages/ipykernel/ipkernel.py(391): do_execute\n/home/fred/anaconda3/envs/pythonProject/lib/python3.10/site-packages/ipykernel/kernelbase.py(700): execute_request\n/home/fred/anaconda3/envs/pythonProject/lib/python3.10/site-packages/ipykernel/kernelbase.py(386): dispatch_shell\n/home/fred/anaconda3/envs/pythonProject/lib/python3.10/site-packages/ipykernel/kernelbase.py(499): process_one\n/home/fred/anaconda3/envs/pythonProject/lib/python3.10/site-packages/ipykernel/kernelbase.py(513): dispatch_queue\n/home/fred/anaconda3/envs/pythonProject/lib/python3.10/asyncio/events.py(80): _run\n/home/fred/anaconda3/envs/pythonProject/lib/python3.10/asyncio/base_events.py(1863): _run_once\n/home/fred/anaconda3/envs/pythonProject/lib/python3.10/asyncio/base_events.py(597): run_forever\n/home/fred/anaconda3/envs/pythonProject/lib/python3.10/site-packages/tornado/platform/asyncio.py(212): start\n/home/fred/anaconda3/envs/pythonProject/lib/python3.10/site-packages/ipykernel/kernelapp.py(715): start\n/home/fred/anaconda3/envs/pythonProject/lib/python3.10/site-packages/traitlets/config/application.py(990): launch_instance\n/home/fred/anaconda3/envs/pythonProject/lib/python3.10/site-packages/ipykernel_launcher.py(12): <module>\n/home/fred/anaconda3/envs/pythonProject/lib/python3.10/runpy.py(75): _run_code\n/home/fred/anaconda3/envs/pythonProject/lib/python3.10/runpy.py(191): _run_module_as_main\nRuntimeError: shape mismatch: value tensor of shape [8179, 256] cannot be broadcast to indexing result of shape [8145, 256]\n",
     "output_type": "error",
     "traceback": [
      "\u001B[0;31m---------------------------------------------------------------------------\u001B[0m",
      "\u001B[0;31mRuntimeError\u001B[0m                              Traceback (most recent call last)",
      "Cell \u001B[0;32mIn[4], line 12\u001B[0m\n\u001B[1;32m     10\u001B[0m \u001B[38;5;28mprint\u001B[39m(\u001B[38;5;241m1\u001B[39m)\n\u001B[1;32m     11\u001B[0m model \u001B[38;5;241m=\u001B[39m torch\u001B[38;5;241m.\u001B[39mjit\u001B[38;5;241m.\u001B[39mload(\u001B[38;5;124m\"\u001B[39m\u001B[38;5;124mtrace_model.pt\u001B[39m\u001B[38;5;124m\"\u001B[39m)\n\u001B[0;32m---> 12\u001B[0m \u001B[43mmodel\u001B[49m\u001B[43m(\u001B[49m\u001B[43mdummy_image0\u001B[49m\u001B[43m,\u001B[49m\u001B[43mdummy_image1\u001B[49m\u001B[43m)\u001B[49m\n\u001B[1;32m     13\u001B[0m \u001B[38;5;28mprint\u001B[39m(\u001B[38;5;241m2\u001B[39m)\n\u001B[1;32m     14\u001B[0m inputs\u001B[38;5;241m=\u001B[39m {\u001B[38;5;124m'\u001B[39m\u001B[38;5;124mimage0\u001B[39m\u001B[38;5;124m'\u001B[39m: dummy_image0,\u001B[38;5;124m'\u001B[39m\u001B[38;5;124mimage1\u001B[39m\u001B[38;5;124m'\u001B[39m: dummy_image1}\n",
      "File \u001B[0;32m~/anaconda3/envs/Pretrained_UAV_Localization_pytorch2/lib/python3.10/site-packages/torch/nn/modules/module.py:1501\u001B[0m, in \u001B[0;36mModule._call_impl\u001B[0;34m(self, *args, **kwargs)\u001B[0m\n\u001B[1;32m   1496\u001B[0m \u001B[38;5;66;03m# If we don't have any hooks, we want to skip the rest of the logic in\u001B[39;00m\n\u001B[1;32m   1497\u001B[0m \u001B[38;5;66;03m# this function, and just call forward.\u001B[39;00m\n\u001B[1;32m   1498\u001B[0m \u001B[38;5;28;01mif\u001B[39;00m \u001B[38;5;129;01mnot\u001B[39;00m (\u001B[38;5;28mself\u001B[39m\u001B[38;5;241m.\u001B[39m_backward_hooks \u001B[38;5;129;01mor\u001B[39;00m \u001B[38;5;28mself\u001B[39m\u001B[38;5;241m.\u001B[39m_backward_pre_hooks \u001B[38;5;129;01mor\u001B[39;00m \u001B[38;5;28mself\u001B[39m\u001B[38;5;241m.\u001B[39m_forward_hooks \u001B[38;5;129;01mor\u001B[39;00m \u001B[38;5;28mself\u001B[39m\u001B[38;5;241m.\u001B[39m_forward_pre_hooks\n\u001B[1;32m   1499\u001B[0m         \u001B[38;5;129;01mor\u001B[39;00m _global_backward_pre_hooks \u001B[38;5;129;01mor\u001B[39;00m _global_backward_hooks\n\u001B[1;32m   1500\u001B[0m         \u001B[38;5;129;01mor\u001B[39;00m _global_forward_hooks \u001B[38;5;129;01mor\u001B[39;00m _global_forward_pre_hooks):\n\u001B[0;32m-> 1501\u001B[0m     \u001B[38;5;28;01mreturn\u001B[39;00m \u001B[43mforward_call\u001B[49m\u001B[43m(\u001B[49m\u001B[38;5;241;43m*\u001B[39;49m\u001B[43margs\u001B[49m\u001B[43m,\u001B[49m\u001B[43m \u001B[49m\u001B[38;5;241;43m*\u001B[39;49m\u001B[38;5;241;43m*\u001B[39;49m\u001B[43mkwargs\u001B[49m\u001B[43m)\u001B[49m\n\u001B[1;32m   1502\u001B[0m \u001B[38;5;66;03m# Do not call functions when jit is used\u001B[39;00m\n\u001B[1;32m   1503\u001B[0m full_backward_hooks, non_full_backward_hooks \u001B[38;5;241m=\u001B[39m [], []\n",
      "\u001B[0;31mRuntimeError\u001B[0m: The following operation failed in the TorchScript interpreter.\nTraceback of TorchScript, serialized code (most recent call last):\n  File \"code/__torch__/TopicFM/src/models/topic_fm.py\", line 45, in forward\n    _17 = ops.prim.NumToTensor(torch.size(feat_c1, 1))\n    feat1 = torch.reshape(_14, [_16, -1, int(_17)])\n    _18 = (loftr_coarse).forward(feat0, feat1, )\n           ~~~~~~~~~~~~~~~~~~~~~ <--- HERE\n    _19 = (coarse_matching).forward(_18, _4, _5, _7, _8, _3, other, _6, other0, _0, )\n    _20, _21, _22, _23, _24, _25, _26, = _19\n  File \"code/__torch__/TopicFM/src/models/modules/transformer.py\", line 108, in forward\n    _53 = torch.slice(resized_feat, 1, 0, 9223372036854775807)\n    _54 = annotate(List[Optional[Tensor]], [new_mask])\n    _55 = torch.index_put_(_53, _54, _52)\n          ~~~~~~~~~~~~~~~~ <--- HERE\n    len_topic0 = torch.to(torch.sum(topick1, [-1]), 3)\n    selected_ids0 = torch.to(topick1, 11)\n\nTraceback of TorchScript, original code (most recent call last):\n/home/fred/PycharmProjects/Pretrained_UAV_Localization/TopicFM/src/models/modules/transformer.py(124): reduce_feat\n/home/fred/PycharmProjects/Pretrained_UAV_Localization/TopicFM/src/models/modules/transformer.py(160): forward\n/home/fred/anaconda3/envs/pythonProject/lib/python3.10/site-packages/torch/nn/modules/module.py(1176): _slow_forward\n/home/fred/anaconda3/envs/pythonProject/lib/python3.10/site-packages/torch/nn/modules/module.py(1192): _call_impl\n/home/fred/PycharmProjects/Pretrained_UAV_Localization/TopicFM/src/models/topic_fm.py(56): forward\n/home/fred/anaconda3/envs/pythonProject/lib/python3.10/site-packages/torch/nn/modules/module.py(1176): _slow_forward\n/home/fred/anaconda3/envs/pythonProject/lib/python3.10/site-packages/torch/nn/modules/module.py(1192): _call_impl\n/home/fred/anaconda3/envs/pythonProject/lib/python3.10/site-packages/torch/jit/_trace.py(957): trace_module\n/home/fred/anaconda3/envs/pythonProject/lib/python3.10/site-packages/torch/jit/_trace.py(753): trace\n/tmp/ipykernel_1792/2672823044.py(27): <module>\n/home/fred/anaconda3/envs/pythonProject/lib/python3.10/site-packages/IPython/core/interactiveshell.py(3430): run_code\n/home/fred/anaconda3/envs/pythonProject/lib/python3.10/site-packages/IPython/core/interactiveshell.py(3341): run_ast_nodes\n/home/fred/anaconda3/envs/pythonProject/lib/python3.10/site-packages/IPython/core/interactiveshell.py(3168): run_cell_async\n/home/fred/anaconda3/envs/pythonProject/lib/python3.10/site-packages/IPython/core/async_helpers.py(129): _pseudo_sync_runner\n/home/fred/anaconda3/envs/pythonProject/lib/python3.10/site-packages/IPython/core/interactiveshell.py(2970): _run_cell\n/home/fred/anaconda3/envs/pythonProject/lib/python3.10/site-packages/IPython/core/interactiveshell.py(2941): run_cell\n/home/fred/anaconda3/envs/pythonProject/lib/python3.10/site-packages/ipykernel/zmqshell.py(540): run_cell\n/home/fred/anaconda3/envs/pythonProject/lib/python3.10/site-packages/ipykernel/ipkernel.py(391): do_execute\n/home/fred/anaconda3/envs/pythonProject/lib/python3.10/site-packages/ipykernel/kernelbase.py(700): execute_request\n/home/fred/anaconda3/envs/pythonProject/lib/python3.10/site-packages/ipykernel/kernelbase.py(386): dispatch_shell\n/home/fred/anaconda3/envs/pythonProject/lib/python3.10/site-packages/ipykernel/kernelbase.py(499): process_one\n/home/fred/anaconda3/envs/pythonProject/lib/python3.10/site-packages/ipykernel/kernelbase.py(513): dispatch_queue\n/home/fred/anaconda3/envs/pythonProject/lib/python3.10/asyncio/events.py(80): _run\n/home/fred/anaconda3/envs/pythonProject/lib/python3.10/asyncio/base_events.py(1863): _run_once\n/home/fred/anaconda3/envs/pythonProject/lib/python3.10/asyncio/base_events.py(597): run_forever\n/home/fred/anaconda3/envs/pythonProject/lib/python3.10/site-packages/tornado/platform/asyncio.py(212): start\n/home/fred/anaconda3/envs/pythonProject/lib/python3.10/site-packages/ipykernel/kernelapp.py(715): start\n/home/fred/anaconda3/envs/pythonProject/lib/python3.10/site-packages/traitlets/config/application.py(990): launch_instance\n/home/fred/anaconda3/envs/pythonProject/lib/python3.10/site-packages/ipykernel_launcher.py(12): <module>\n/home/fred/anaconda3/envs/pythonProject/lib/python3.10/runpy.py(75): _run_code\n/home/fred/anaconda3/envs/pythonProject/lib/python3.10/runpy.py(191): _run_module_as_main\nRuntimeError: shape mismatch: value tensor of shape [8179, 256] cannot be broadcast to indexing result of shape [8145, 256]\n"
     ]
    }
   ],
   "source": [
    "import torch.jit\n",
    "\n",
    "model = torch.load(\"model.pt\")\n",
    "dummy_image0 = torch.randn(1, 1, 800, 800, device=\"cpu\")\n",
    "dummy_image1 = torch.randn(1, 1, 800,800, device=\"cpu\")\n",
    "model(dummy_image0,dummy_image1)\n",
    "print(0)\n",
    "model = torch.jit.load(\"script_model.pt\")\n",
    "model(dummy_image0,dummy_image1)\n",
    "print(1)\n",
    "model = torch.jit.load(\"trace_model.pt\")\n",
    "model(dummy_image0,dummy_image1)\n",
    "print(2)\n",
    "inputs= {'image0': dummy_image0,'image1': dummy_image1}\n",
    "\n",
    "test_time(\"model.onnx\",inputs)\n",
    "print(3)\n",
    "test_time(\"model_simplified.onnx\",inputs)\n",
    "print(4)"
   ]
  }
 ],
 "metadata": {
  "kernelspec": {
   "display_name": "Python 3",
   "language": "python",
   "name": "python3"
  },
  "language_info": {
   "codemirror_mode": {
    "name": "ipython",
    "version": 2
   },
   "file_extension": ".py",
   "mimetype": "text/x-python",
   "name": "python",
   "nbconvert_exporter": "python",
   "pygments_lexer": "ipython2",
   "version": "2.7.6"
  }
 },
 "nbformat": 4,
 "nbformat_minor": 0
}
