{
 "cells": [
  {
   "cell_type": "markdown",
   "metadata": {
    "id": "MIGuQbmAl3-q"
   },
   "source": []
  },
  {
   "cell_type": "code",
   "execution_count": 101,
   "metadata": {},
   "outputs": [
    {
     "name": "stdout",
     "output_type": "stream",
     "text": [
      "The autoreload extension is already loaded. To reload it, use:\n",
      "  %reload_ext autoreload\n"
     ]
    },
    {
     "name": "stderr",
     "output_type": "stream",
     "text": [
      "[autoreload of Tester.tester failed: Traceback (most recent call last):\n",
      "  File \"/home/fred/anaconda3/envs/pythonProject/lib/python3.10/site-packages/IPython/extensions/autoreload.py\", line 261, in check\n",
      "    superreload(m, reload, self.old_objects)\n",
      "  File \"/home/fred/anaconda3/envs/pythonProject/lib/python3.10/site-packages/IPython/extensions/autoreload.py\", line 484, in superreload\n",
      "    update_generic(old_obj, new_obj)\n",
      "  File \"/home/fred/anaconda3/envs/pythonProject/lib/python3.10/site-packages/IPython/extensions/autoreload.py\", line 381, in update_generic\n",
      "    update(a, b)\n",
      "  File \"/home/fred/anaconda3/envs/pythonProject/lib/python3.10/site-packages/IPython/extensions/autoreload.py\", line 293, in update_function\n",
      "    setattr(old, name, getattr(new, name))\n",
      "ValueError: create_geotiff() requires a code object with 0 free vars, not 2\n",
      "]\n"
     ]
    }
   ],
   "source": [
    "\n",
    "%load_ext autoreload\n",
    "%autoreload 2\n",
    "from Tester.tester_interface import *\n",
    "import matplotlib\n",
    "\n",
    "matplotlib.rcParams['figure.dpi'] = 100\n",
    "\n"
   ]
  },
  {
   "cell_type": "code",
   "execution_count": 102,
   "metadata": {},
   "outputs": [],
   "source": [
    "from TopicFM.get_matcher import get_matcher as get_matcher_TopicFM\n",
    "from MatchFormer.get_matcher import get_matcher as get_matcher_MatchFormer\n",
    "from LoFTR_master.get_matcher import get_matcher as get_matcher_LoFTR\n",
    "from ASpanFormer.get_matcher import get_matcher as get_matcher_ASpanFormer\n",
    "from AdaMatcher.get_matcher import get_matcher as get_matcher_AdaMatcher\n",
    "from FlowFormer.get_matcher import get_matcher as get_matcher_FlowFormer"
   ]
  },
  {
   "cell_type": "code",
   "execution_count": 103,
   "metadata": {},
   "outputs": [],
   "source": [
    "#tester_py = Tester_Pytorch_FlowFormer(get_matcher_FlowFormer(path=\"../FlowFormer/weights/things_kitti.pth\",small=\"False\"),\"cuda\")\n",
    "#tester_py.train_epoch()\n",
    "#tester_py.make_test(size_search=(640, 480),angle_rotation=0)\n",
    "#assert False"
   ]
  },
  {
   "cell_type": "code",
   "execution_count": 104,
   "outputs": [],
   "source": [
    "#tester_py = Tester_PyTorch_ASpanFormer(get_matcher_ASpanFormer(),\"cuda\")\n",
    "#tester_py.make_test(size_search=(800, 800),size_patch=(400,400),angle_rotation=0)\n",
    "#assert False"
   ],
   "metadata": {
    "collapsed": false
   }
  },
  {
   "cell_type": "code",
   "execution_count": 105,
   "outputs": [
    {
     "name": "stderr",
     "output_type": "stream",
     "text": [
      "Global seed set to 66\n",
      "2023-06-23 08:29:11.810 | INFO     | TopicFM.src.lightning_trainer.trainer:__init__:49 - Load '../TopicFM/pretrained/model_best.ckpt' as pretrained checkpoint\n",
      "  0%|          | 0/408 [00:01<?, ?it/s]"
     ]
    },
    {
     "name": "stdout",
     "output_type": "stream",
     "text": [
      "Unexpected exception formatting exception. Falling back to standard exception\n"
     ]
    },
    {
     "name": "stderr",
     "output_type": "stream",
     "text": [
      "\n",
      "Traceback (most recent call last):\n",
      "  File \"/home/fred/anaconda3/envs/pythonProject/lib/python3.10/site-packages/IPython/core/interactiveshell.py\", line 3433, in run_code\n",
      "    exec(code_obj, self.user_global_ns, self.user_ns)\n",
      "  File \"/tmp/ipykernel_15649/1711064603.py\", line 3, in <module>\n",
      "    tester_py.make_test(size_search=(800, 800),size_patch=(400,400),verbose=True)\n",
      "  File \"/home/fred/PycharmProjects/Pretrained_UAV_Localization/Tester/tester_interface.py\", line 168, in make_test\n",
      "    results = do_test(self.make_inference, parameters,ii, size_search=size_search,\n",
      "  File \"/home/fred/PycharmProjects/Pretrained_UAV_Localization/Tester/tester.py\", line 667, in do_test\n",
      "  File \"/home/fred/PycharmProjects/Pretrained_UAV_Localization/Tester/tester.py\", line 667, in <listcomp>\n",
      "  File \"/home/fred/PycharmProjects/Pretrained_UAV_Localization/Tester/tester.py\", line 550, in postproces_and_metric\n",
      "    rmse = get_metrics_differentiable(np.array(mk0_in, copy=True)[:threshold_inliers],np.array(mk1_in, copy=True)[:threshold_inliers], S1,llh, (searching_window_w, searching_window_h),   sh0=sh0, sh1=sh1, off_x=off_x, off_y=off_y,idx=idx, angle_rotation=angle_rotation)\n",
      "  File \"/home/fred/anaconda3/envs/pythonProject/lib/python3.10/site-packages/line_profiler/line_profiler.py\", line 130, in wrapper\n",
      "    result = func(*args, **kwds)\n",
      "  File \"/home/fred/PycharmProjects/Pretrained_UAV_Localization/Tester/tester.py\", line 373, in get_metrics_differentiable\n",
      "    j_slc, i_slc =   ~create_geotiff(llh, idx, mode=\"CP\") * (lon, lat)\n",
      "TypeError: can't multiply sequence by non-int of type 'Affine'\n",
      "\n",
      "During handling of the above exception, another exception occurred:\n",
      "\n",
      "Traceback (most recent call last):\n",
      "  File \"/home/fred/anaconda3/envs/pythonProject/lib/python3.10/site-packages/IPython/core/interactiveshell.py\", line 2052, in showtraceback\n",
      "    stb = self.InteractiveTB.structured_traceback(\n",
      "  File \"/home/fred/anaconda3/envs/pythonProject/lib/python3.10/site-packages/IPython/core/ultratb.py\", line 1118, in structured_traceback\n",
      "    return FormattedTB.structured_traceback(\n",
      "  File \"/home/fred/anaconda3/envs/pythonProject/lib/python3.10/site-packages/IPython/core/ultratb.py\", line 1012, in structured_traceback\n",
      "    return VerboseTB.structured_traceback(\n",
      "  File \"/home/fred/anaconda3/envs/pythonProject/lib/python3.10/site-packages/IPython/core/ultratb.py\", line 865, in structured_traceback\n",
      "    formatted_exception = self.format_exception_as_a_whole(etype, evalue, etb, number_of_lines_of_context,\n",
      "  File \"/home/fred/anaconda3/envs/pythonProject/lib/python3.10/site-packages/IPython/core/ultratb.py\", line 818, in format_exception_as_a_whole\n",
      "    frames.append(self.format_record(r))\n",
      "  File \"/home/fred/anaconda3/envs/pythonProject/lib/python3.10/site-packages/IPython/core/ultratb.py\", line 736, in format_record\n",
      "    result += ''.join(_format_traceback_lines(frame_info.lines, Colors, self.has_colors, lvals))\n",
      "  File \"/home/fred/anaconda3/envs/pythonProject/lib/python3.10/site-packages/stack_data/utils.py\", line 145, in cached_property_wrapper\n",
      "    value = obj.__dict__[self.func.__name__] = self.func(obj)\n",
      "  File \"/home/fred/anaconda3/envs/pythonProject/lib/python3.10/site-packages/stack_data/core.py\", line 698, in lines\n",
      "    pieces = self.included_pieces\n",
      "  File \"/home/fred/anaconda3/envs/pythonProject/lib/python3.10/site-packages/stack_data/utils.py\", line 145, in cached_property_wrapper\n",
      "    value = obj.__dict__[self.func.__name__] = self.func(obj)\n",
      "  File \"/home/fred/anaconda3/envs/pythonProject/lib/python3.10/site-packages/stack_data/core.py\", line 649, in included_pieces\n",
      "    pos = scope_pieces.index(self.executing_piece)\n",
      "  File \"/home/fred/anaconda3/envs/pythonProject/lib/python3.10/site-packages/stack_data/utils.py\", line 145, in cached_property_wrapper\n",
      "    value = obj.__dict__[self.func.__name__] = self.func(obj)\n",
      "  File \"/home/fred/anaconda3/envs/pythonProject/lib/python3.10/site-packages/stack_data/core.py\", line 628, in executing_piece\n",
      "    return only(\n",
      "  File \"/home/fred/anaconda3/envs/pythonProject/lib/python3.10/site-packages/executing/executing.py\", line 164, in only\n",
      "    raise NotOneValueFound('Expected one value, found 0')\n",
      "executing.executing.NotOneValueFound: Expected one value, found 0\n"
     ]
    }
   ],
   "source": [
    "tester_py = Tester_Pytorch_TopicFM(get_matcher_TopicFM(),\"cuda\")\n",
    "\n",
    "tester_py.make_test(size_search=(800, 800),size_patch=(400,400),verbose=True)"
   ],
   "metadata": {
    "collapsed": false
   }
  },
  {
   "cell_type": "code",
   "execution_count": null,
   "outputs": [],
   "source": [
    "import onnxruntime as ort\n",
    "sess_options = ort.SessionOptions()\n",
    "#sessionOptions.enable_sequential_execution = False\n",
    "sess_options.intra_op_num_threads = 1\n",
    "sess_options.execution_mode = ort.ExecutionMode.ORT_SEQUENTIAL\n",
    "tester_onnx = Tester_ONNX(ort.InferenceSession(\"../Tester/model_simplified.onnx\",sess_options=sess_options))\n",
    "tester_onnx.make_test(size_search=(800, 800),size_patch=(400,400))"
   ],
   "metadata": {
    "collapsed": false
   }
  },
  {
   "cell_type": "code",
   "execution_count": null,
   "outputs": [],
   "source": [],
   "metadata": {
    "collapsed": false
   }
  },
  {
   "cell_type": "code",
   "execution_count": null,
   "metadata": {},
   "outputs": [],
   "source": []
  },
  {
   "cell_type": "code",
   "execution_count": null,
   "outputs": [],
   "source": [
    "tester_py = Tester_Pytorch_TopicFM(get_matcher_TopicFM(),\"cuda\")\n",
    "\n",
    "tester_py.make_test(size_search=(800, 800),size_patch=(400,400),angle_rotation=10)\n",
    "tester_py.make_test(size_search=(800, 800),size_patch=(400,400),angle_rotation=20)\n",
    "tester_py.make_test(size_search=(800, 800),size_patch=(400,400),angle_rotation=30)\n",
    "\n",
    "tester_py = Tester_Pytorch_MatchFormer(get_matcher_MatchFormer(),\"cuda\")\n",
    "\n",
    "tester_py.make_test(size_search=(800, 800),size_patch=(400,400),angle_rotation=10)\n",
    "tester_py.make_test(size_search=(800, 800),size_patch=(400,400),angle_rotation=20)\n",
    "tester_py.make_test(size_search=(800, 800),size_patch=(400,400),angle_rotation=30)\n",
    "\n",
    "tester_py = Tester_Pytorch_LoFTR(get_matcher_LoFTR(),\"cuda\")\n",
    "\n",
    "tester_py.make_test(size_search=(800, 800),size_patch=(400,400),angle_rotation=10)\n",
    "tester_py.make_test(size_search=(800, 800),size_patch=(400,400),angle_rotation=20)\n",
    "tester_py.make_test(size_search=(800, 800),size_patch=(400,400),angle_rotation=30)\n",
    "#tester_py.train_epoch()\n",
    "\n",
    "assert False\n",
    "tester_py.make_test(size_search=(800, 720),angle_rotation=5)\n",
    "tester_py.make_test(size_search=(880, 880),angle_rotation=0)\n",
    "\n",
    "tester_py.make_test(size_search=(800, 720),angle_rotation=10)\n",
    "tester_py.make_test(size_search=(800, 720),angle_rotation=20)\n",
    "tester_py.make_test(size_search=(800, 720),angle_rotation=30)\n",
    "tester_py.make_test(size_search=(720, 640),angle_rotation=0)\n",
    "\n"
   ],
   "metadata": {
    "collapsed": false
   }
  },
  {
   "cell_type": "code",
   "execution_count": null,
   "metadata": {},
   "outputs": [],
   "source": [
    "tester_py = Tester_Pytorch_MatchFormer(get_matcher_MatchFormer(),\"cuda\")\n",
    "tester_py.make_test(size_search=(800, 800),size_patch=(800,800))"
   ]
  },
  {
   "cell_type": "code",
   "execution_count": null,
   "metadata": {},
   "outputs": [],
   "source": [
    "tester_py = Tester_Pytorch_LoFTR(get_matcher_LoFTR(),\"cuda\")\n",
    "tester_py.make_test(size_search=(800, 800),size_patch=(800,800))"
   ]
  },
  {
   "cell_type": "code",
   "execution_count": null,
   "metadata": {},
   "outputs": [],
   "source": [
    "#tester_py = Tester_PyTorch_ASpanFormer(get_matcher_ASpanFormer(),\"cuda\")\n",
    "#tester_py.make_test()"
   ]
  },
  {
   "cell_type": "code",
   "execution_count": null,
   "metadata": {},
   "outputs": [],
   "source": [
    "import onnxruntime as ort\n",
    "\n",
    "tester_onnx = Tester_ONNX(ort.InferenceSession(\"../TopicFM/model.onnx\"))\n",
    "tester_onnx.make_test()"
   ]
  },
  {
   "cell_type": "code",
   "execution_count": null,
   "metadata": {},
   "outputs": [],
   "source": [
    "print(\"cvxv\")"
   ]
  },
  {
   "cell_type": "code",
   "execution_count": null,
   "metadata": {},
   "outputs": [],
   "source": []
  }
 ],
 "metadata": {
  "colab": {
   "provenance": []
  },
  "kernelspec": {
   "display_name": "Python 3 (ipykernel)",
   "language": "python",
   "name": "python3"
  },
  "language_info": {
   "codemirror_mode": {
    "name": "ipython",
    "version": 3
   },
   "file_extension": ".py",
   "mimetype": "text/x-python",
   "name": "python",
   "nbconvert_exporter": "python",
   "pygments_lexer": "ipython3",
   "version": "3.10.8"
  }
 },
 "nbformat": 4,
 "nbformat_minor": 1
}
