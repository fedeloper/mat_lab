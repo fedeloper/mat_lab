{
 "cells": [
  {
   "cell_type": "markdown",
   "metadata": {
    "id": "MIGuQbmAl3-q"
   },
   "source": []
  },
  {
   "cell_type": "code",
   "execution_count": 1,
   "metadata": {},
   "outputs": [],
   "source": [
    "from d2net.lib.model import D2Net\n",
    "%load_ext autoreload\n",
    "%autoreload 2\n",
    "from Tester.tester_interface import *\n",
    "import matplotlib\n",
    "\n",
    "matplotlib.rcParams['figure.dpi'] = 100\n",
    "\n"
   ]
  },
  {
   "cell_type": "code",
   "execution_count": 2,
   "metadata": {},
   "outputs": [],
   "source": [
    "from TopicFM.get_matcher import get_matcher as get_matcher_TopicFM\n",
    "from MatchFormer.get_matcher import get_matcher as get_matcher_MatchFormer\n",
    "from LoFTR_master.get_matcher import get_matcher as get_matcher_LoFTR\n",
    "from ASpanFormer.get_matcher import get_matcher as get_matcher_ASpanFormer\n",
    "from AdaMatcher.get_matcher import get_matcher as get_matcher_AdaMatcher\n",
    "from FlowFormer.get_matcher import get_matcher as get_matcher_FlowFormer\n",
    "from ALIKE.get_matcher import get_matcher as get_matcher_ALIKE\n",
    "from DFM.get_matcher import get_matcher as get_matcher_DFM\n"
   ]
  },
  {
   "cell_type": "code",
   "execution_count": 3,
   "metadata": {},
   "outputs": [],
   "source": [
    "#tester_py = Tester_Pytorch_FlowFormer(get_matcher_FlowFormer(path=\"../FlowFormer/weights/things_kitti.pth\",small=\"False\"),\"cuda\")\n",
    "#tester_py.train_epoch()\n",
    "#tester_py.make_test(size_search=(640, 480),angle_rotation=0)\n",
    "#assert False"
   ]
  },
  {
   "cell_type": "code",
   "execution_count": 4,
   "outputs": [],
   "source": [
    "#tester_py = Tester_PyTorch_ASpanFormer(get_matcher_ASpanFormer(),\"cuda\")\n",
    "#tester_py.make_test(size_search=(800, 800),size_patch=(400,400),angle_rotation=0)\n",
    "#assert False"
   ],
   "metadata": {
    "collapsed": false
   }
  },
  {
   "cell_type": "code",
   "execution_count": 5,
   "outputs": [],
   "source": [
    "#tester_py = Tester_Pytorch_d2net(get_matcher_d2net(),\"cuda\")\n",
    "#tester_py.make_test(size_search=(800, 800),size_patch=(400,400),verbose=True)\n",
    "#assert False"
   ],
   "metadata": {
    "collapsed": false
   }
  },
  {
   "cell_type": "code",
   "execution_count": 6,
   "outputs": [
    {
     "name": "stdout",
     "output_type": "stream",
     "text": [
      "Loaded LightGlue model\n"
     ]
    },
    {
     "name": "stderr",
     "output_type": "stream",
     "text": [
      "  0%|          | 0/408 [00:00<?, ?it/s]/home/fred/PycharmProjects/Pretrained_UAV_Localization/Tester/tester_interface.py:172: RuntimeWarning: invalid value encountered in cast\n",
      "  parameters = (uavsar, llh, ropen , (np.squeeze(s1_norm_log) * 255).astype(np.uint8))\n",
      "  1%|          | 5/408 [00:05<06:33,  1.03it/s]"
     ]
    },
    {
     "name": "stdout",
     "output_type": "stream",
     "text": [
      "{'min_samples': 0, 'residual_threshold': -1, 'max_trials': 0, 'rmse': 64.88867950439453, 'inliers': 2}\n",
      "{'min_samples': 4, 'residual_threshold': 7, 'max_trials': 100, 'rmse': 290.0489196777344, 'inliers': 2}\n",
      "{'min_samples': 4, 'residual_threshold': 10, 'max_trials': 100, 'rmse': 290.0489196777344, 'inliers': 2}\n",
      "{'min_samples': 4, 'residual_threshold': 15, 'max_trials': 100, 'rmse': 64.88867950439453, 'inliers': 2}\n",
      "{'min_samples': 4, 'residual_threshold': 20, 'max_trials': 100, 'rmse': 64.88867950439453, 'inliers': 2}\n",
      "{'min_samples': 4, 'residual_threshold': 25, 'max_trials': 100, 'rmse': 64.88867950439453, 'inliers': 2}\n"
     ]
    },
    {
     "name": "stderr",
     "output_type": "stream",
     "text": [
      "  8%|▊         | 33/408 [00:31<05:56,  1.05it/s]\n"
     ]
    },
    {
     "data": {
      "text/plain": "\u001B[31m╭─\u001B[0m\u001B[31m──────────────────────────────\u001B[0m\u001B[31m \u001B[0m\u001B[1;31mTraceback \u001B[0m\u001B[1;2;31m(most recent call last)\u001B[0m\u001B[31m \u001B[0m\u001B[31m───────────────────────────────\u001B[0m\u001B[31m─╮\u001B[0m\n\u001B[31m│\u001B[0m in \u001B[92m<module>\u001B[0m:\u001B[94m2\u001B[0m                                                                                    \u001B[31m│\u001B[0m\n\u001B[31m│\u001B[0m                                                                                                  \u001B[31m│\u001B[0m\n\u001B[31m│\u001B[0m   \u001B[2m1 \u001B[0mtester_py = Tester_Pytorch_LightGlue(\u001B[94mNone\u001B[0m,\u001B[33m\"\u001B[0m\u001B[33mcuda\u001B[0m\u001B[33m\"\u001B[0m)                                            \u001B[31m│\u001B[0m\n\u001B[31m│\u001B[0m \u001B[31m❱ \u001B[0m2 tester_py.make_test(size_search=(\u001B[94m800\u001B[0m, \u001B[94m800\u001B[0m),size_patch=(\u001B[94m400\u001B[0m,\u001B[94m400\u001B[0m),verbose=\u001B[94mTrue\u001B[0m)                \u001B[31m│\u001B[0m\n\u001B[31m│\u001B[0m   \u001B[2m3 \u001B[0m\u001B[94massert\u001B[0m \u001B[94mFalse\u001B[0m                                                                                 \u001B[31m│\u001B[0m\n\u001B[31m│\u001B[0m   \u001B[2m4 \u001B[0m                                                                                             \u001B[31m│\u001B[0m\n\u001B[31m│\u001B[0m                                                                                                  \u001B[31m│\u001B[0m\n\u001B[31m│\u001B[0m \u001B[2;33m/home/fred/PycharmProjects/Pretrained_UAV_Localization/Tester/\u001B[0m\u001B[1;33mtester_interface.py\u001B[0m:\u001B[94m176\u001B[0m in         \u001B[31m│\u001B[0m\n\u001B[31m│\u001B[0m \u001B[92mmake_test\u001B[0m                                                                                        \u001B[31m│\u001B[0m\n\u001B[31m│\u001B[0m                                                                                                  \u001B[31m│\u001B[0m\n\u001B[31m│\u001B[0m   \u001B[2m173 \u001B[0m\u001B[2m│   │   │   \u001B[0mname_model = \u001B[96mself\u001B[0m.name_model + \u001B[33m\"\u001B[0m\u001B[33m/\u001B[0m\u001B[33m\"\u001B[0m + pathlib.PurePath(ph[\u001B[94m0\u001B[0m]).parent.name + \u001B[33m\"\u001B[0m   \u001B[31m│\u001B[0m\n\u001B[31m│\u001B[0m   \u001B[2m174 \u001B[0m\u001B[2m│   │   │   │   \u001B[0mangle_rotation) + \u001B[33m\"\u001B[0m\u001B[33m_\u001B[0m\u001B[33m\"\u001B[0m + \u001B[96mstr\u001B[0m(size_search) + \u001B[33m\"\u001B[0m\u001B[33m_\u001B[0m\u001B[33m\"\u001B[0m + \u001B[96mstr\u001B[0m(size_patch)           \u001B[31m│\u001B[0m\n\u001B[31m│\u001B[0m   \u001B[2m175 \u001B[0m\u001B[2m│   │   │   \u001B[0m                                                                               \u001B[31m│\u001B[0m\n\u001B[31m│\u001B[0m \u001B[31m❱ \u001B[0m176 \u001B[2m│   │   │   \u001B[0mresults = do_test(\u001B[96mself\u001B[0m.make_inference, parameters,ii, size_search=size_searc   \u001B[31m│\u001B[0m\n\u001B[31m│\u001B[0m   \u001B[2m177 \u001B[0m\u001B[2m│   │   │   │   │   │   │     \u001B[0msize_patch=size_patch, verbose=verbose, configs_ransac=con   \u001B[31m│\u001B[0m\n\u001B[31m│\u001B[0m   \u001B[2m178 \u001B[0m\u001B[2m│   │   │   │   │   │   │     \u001B[0mthreshold_inliers=threshold_inliers, random_select=random_   \u001B[31m│\u001B[0m\n\u001B[31m│\u001B[0m   \u001B[2m179 \u001B[0m\u001B[2m│   │   │   │   │   │   │     \u001B[0mname_model=name_model, angle_rotation=angle_rotation)        \u001B[31m│\u001B[0m\n\u001B[31m│\u001B[0m                                                                                                  \u001B[31m│\u001B[0m\n\u001B[31m│\u001B[0m \u001B[2;33m/home/fred/PycharmProjects/Pretrained_UAV_Localization/Tester/\u001B[0m\u001B[1;33mtester.py\u001B[0m:\u001B[94m661\u001B[0m in \u001B[92mdo_test\u001B[0m           \u001B[31m│\u001B[0m\n\u001B[31m│\u001B[0m                                                                                                  \u001B[31m│\u001B[0m\n\u001B[31m│\u001B[0m   \u001B[2m658 \u001B[0m\u001B[2m│   \u001B[0m                                                                                       \u001B[31m│\u001B[0m\n\u001B[31m│\u001B[0m   \u001B[2m659 \u001B[0m\u001B[2m│   \u001B[0mpatch,search,sh0,sh1,off_x,off_y = get_sample(ph, size_search, size_patch,rnd=\u001B[94mFalse\u001B[0m)   \u001B[31m│\u001B[0m\n\u001B[31m│\u001B[0m   \u001B[2m660 \u001B[0m\u001B[2m│   \u001B[0mresults = \u001B[94mNone\u001B[0m                                                                         \u001B[31m│\u001B[0m\n\u001B[31m│\u001B[0m \u001B[31m❱ \u001B[0m661 \u001B[2m│   \u001B[0mprediction = predict( matcher_in, search,patch,angle_rotation=angle_rotation)          \u001B[31m│\u001B[0m\n\u001B[31m│\u001B[0m   \u001B[2m662 \u001B[0m\u001B[2m│   \u001B[0m                                                                                       \u001B[31m│\u001B[0m\n\u001B[31m│\u001B[0m   \u001B[2m663 \u001B[0m\u001B[2m│   \u001B[0m\u001B[94mif\u001B[0m prediction \u001B[95mis\u001B[0m \u001B[95mnot\u001B[0m \u001B[94mNone\u001B[0m:                                                             \u001B[31m│\u001B[0m\n\u001B[31m│\u001B[0m   \u001B[2m664 \u001B[0m\u001B[2m│   │   \u001B[0mmkpts0, mkpts1, mconf= prediction                                                  \u001B[31m│\u001B[0m\n\u001B[31m│\u001B[0m                                                                                                  \u001B[31m│\u001B[0m\n\u001B[31m│\u001B[0m \u001B[2;33m/home/fred/PycharmProjects/Pretrained_UAV_Localization/Tester/\u001B[0m\u001B[1;33mtester.py\u001B[0m:\u001B[94m626\u001B[0m in \u001B[92mpredict\u001B[0m           \u001B[31m│\u001B[0m\n\u001B[31m│\u001B[0m                                                                                                  \u001B[31m│\u001B[0m\n\u001B[31m│\u001B[0m   \u001B[2m623 \u001B[0m\u001B[2m│   │   │   \u001B[0m\u001B[94mimport\u001B[0m \u001B[4;96mtime\u001B[0m                                                                    \u001B[31m│\u001B[0m\n\u001B[31m│\u001B[0m   \u001B[2m624 \u001B[0m\u001B[2m│   │   │   \u001B[0mst = time.time()                                                               \u001B[31m│\u001B[0m\n\u001B[31m│\u001B[0m   \u001B[2m625 \u001B[0m\u001B[2m│   │   \u001B[0m\u001B[2m#try:\u001B[0m                                                                              \u001B[31m│\u001B[0m\n\u001B[31m│\u001B[0m \u001B[31m❱ \u001B[0m626 \u001B[2m│   │   \u001B[0mmkpts0, mkpts1, mconf = matcher(img0, img1)                                        \u001B[31m│\u001B[0m\n\u001B[31m│\u001B[0m   \u001B[2m627 \u001B[0m\u001B[2m│   │   \u001B[0m\u001B[2m#except:\u001B[0m                                                                           \u001B[31m│\u001B[0m\n\u001B[31m│\u001B[0m   \u001B[2m628 \u001B[0m\u001B[2m│   │   \u001B[0m\u001B[2m#    return None\u001B[0m                                                                   \u001B[31m│\u001B[0m\n\u001B[31m│\u001B[0m   \u001B[2m629 \u001B[0m\u001B[2m│      \u001B[0m\u001B[2m# print(\"chec valid\",1)\u001B[0m                                                             \u001B[31m│\u001B[0m\n\u001B[31m│\u001B[0m                                                                                                  \u001B[31m│\u001B[0m\n\u001B[31m│\u001B[0m \u001B[2;33m/home/fred/PycharmProjects/Pretrained_UAV_Localization/Tester/\u001B[0m\u001B[1;33mtester_interface.py\u001B[0m:\u001B[94m508\u001B[0m in         \u001B[31m│\u001B[0m\n\u001B[31m│\u001B[0m \u001B[92mmake_inference\u001B[0m                                                                                   \u001B[31m│\u001B[0m\n\u001B[31m│\u001B[0m                                                                                                  \u001B[31m│\u001B[0m\n\u001B[31m│\u001B[0m   \u001B[2m505 \u001B[0m\u001B[2m│   │   \u001B[0mimage1, scales1 = load_image(img1, resize=\u001B[94m1024\u001B[0m)                                    \u001B[31m│\u001B[0m\n\u001B[31m│\u001B[0m   \u001B[2m506 \u001B[0m\u001B[2m│   │   \u001B[0m                                                                                   \u001B[31m│\u001B[0m\n\u001B[31m│\u001B[0m   \u001B[2m507 \u001B[0m\u001B[2m│   │   \u001B[0m\u001B[2m# extraction + matching + rescale keypoints to original image size\u001B[0m                 \u001B[31m│\u001B[0m\n\u001B[31m│\u001B[0m \u001B[31m❱ \u001B[0m508 \u001B[2m│   │   \u001B[0mpred = match_pair(\u001B[96mself\u001B[0m.extractor, \u001B[96mself\u001B[0m.matcher, image0, image1,                    \u001B[31m│\u001B[0m\n\u001B[31m│\u001B[0m   \u001B[2m509 \u001B[0m\u001B[2m│   │   │   │   │   │     \u001B[0mscales0=scales0, scales1=scales1)                                \u001B[31m│\u001B[0m\n\u001B[31m│\u001B[0m   \u001B[2m510 \u001B[0m\u001B[2m│   │   \u001B[0m                                                                                   \u001B[31m│\u001B[0m\n\u001B[31m│\u001B[0m   \u001B[2m511 \u001B[0m\u001B[2m│   │   \u001B[0mkpts0, kpts1, matches = pred[\u001B[33m'\u001B[0m\u001B[33mkeypoints0\u001B[0m\u001B[33m'\u001B[0m], pred[\u001B[33m'\u001B[0m\u001B[33mkeypoints1\u001B[0m\u001B[33m'\u001B[0m], pred[\u001B[33m'\u001B[0m\u001B[33mmatches\u001B[0m\u001B[33m'\u001B[0m]    \u001B[31m│\u001B[0m\n\u001B[31m│\u001B[0m                                                                                                  \u001B[31m│\u001B[0m\n\u001B[31m│\u001B[0m \u001B[2;33m/home/fred/PycharmProjects/Pretrained_UAV_Localization/LightGlue/lightglue/\u001B[0m\u001B[1;33mutils.py\u001B[0m:\u001B[94m80\u001B[0m in        \u001B[31m│\u001B[0m\n\u001B[31m│\u001B[0m \u001B[92mmatch_pair\u001B[0m                                                                                       \u001B[31m│\u001B[0m\n\u001B[31m│\u001B[0m                                                                                                  \u001B[31m│\u001B[0m\n\u001B[31m│\u001B[0m   \u001B[2m77 \u001B[0m\u001B[2m│   \u001B[0m\u001B[94mif\u001B[0m scales1 \u001B[95mis\u001B[0m \u001B[95mnot\u001B[0m \u001B[94mNone\u001B[0m:                                                                 \u001B[31m│\u001B[0m\n\u001B[31m│\u001B[0m   \u001B[2m78 \u001B[0m\u001B[2m│   │   \u001B[0mpred[\u001B[33m'\u001B[0m\u001B[33mkeypoints1\u001B[0m\u001B[33m'\u001B[0m] = (pred[\u001B[33m'\u001B[0m\u001B[33mkeypoints1\u001B[0m\u001B[33m'\u001B[0m] + \u001B[94m0.5\u001B[0m) / scales1[\u001B[94mNone\u001B[0m] - \u001B[94m0.5\u001B[0m               \u001B[31m│\u001B[0m\n\u001B[31m│\u001B[0m   \u001B[2m79 \u001B[0m\u001B[2m│   \u001B[0m\u001B[94mdel\u001B[0m feats0, feats1                                                                      \u001B[31m│\u001B[0m\n\u001B[31m│\u001B[0m \u001B[31m❱ \u001B[0m80 \u001B[2m│   \u001B[0mtorch.cuda.empty_cache()                                                                \u001B[31m│\u001B[0m\n\u001B[31m│\u001B[0m   \u001B[2m81 \u001B[0m\u001B[2m│   \u001B[0m                                                                                        \u001B[31m│\u001B[0m\n\u001B[31m│\u001B[0m   \u001B[2m82 \u001B[0m\u001B[2m│   \u001B[0m\u001B[2m# create match indices\u001B[0m                                                                  \u001B[31m│\u001B[0m\n\u001B[31m│\u001B[0m   \u001B[2m83 \u001B[0m\u001B[2m│   \u001B[0mkpts0, kpts1 = pred[\u001B[33m'\u001B[0m\u001B[33mkeypoints0\u001B[0m\u001B[33m'\u001B[0m], pred[\u001B[33m'\u001B[0m\u001B[33mkeypoints1\u001B[0m\u001B[33m'\u001B[0m]                                   \u001B[31m│\u001B[0m\n\u001B[31m│\u001B[0m                                                                                                  \u001B[31m│\u001B[0m\n\u001B[31m│\u001B[0m \u001B[2;33m/home/fred/anaconda3/envs/pythonProject/lib/python3.10/site-packages/torch/cuda/\u001B[0m\u001B[1;33mmemory.py\u001B[0m:\u001B[94m125\u001B[0m in \u001B[31m│\u001B[0m\n\u001B[31m│\u001B[0m \u001B[92mempty_cache\u001B[0m                                                                                      \u001B[31m│\u001B[0m\n\u001B[31m│\u001B[0m                                                                                                  \u001B[31m│\u001B[0m\n\u001B[31m│\u001B[0m   \u001B[2m122 \u001B[0m\u001B[2;33m│   │   \u001B[0m\u001B[33mmore details about GPU memory management.\u001B[0m                                          \u001B[31m│\u001B[0m\n\u001B[31m│\u001B[0m   \u001B[2m123 \u001B[0m\u001B[2;33m│   \u001B[0m\u001B[33m\"\"\"\u001B[0m                                                                                    \u001B[31m│\u001B[0m\n\u001B[31m│\u001B[0m   \u001B[2m124 \u001B[0m\u001B[2m│   \u001B[0m\u001B[94mif\u001B[0m is_initialized():                                                                   \u001B[31m│\u001B[0m\n\u001B[31m│\u001B[0m \u001B[31m❱ \u001B[0m125 \u001B[2m│   │   \u001B[0mtorch._C._cuda_emptyCache()                                                        \u001B[31m│\u001B[0m\n\u001B[31m│\u001B[0m   \u001B[2m126 \u001B[0m                                                                                           \u001B[31m│\u001B[0m\n\u001B[31m│\u001B[0m   \u001B[2m127 \u001B[0m                                                                                           \u001B[31m│\u001B[0m\n\u001B[31m│\u001B[0m   \u001B[2m128 \u001B[0m\u001B[94mdef\u001B[0m \u001B[92mmemory_stats\u001B[0m(device: Union[Device, \u001B[96mint\u001B[0m] = \u001B[94mNone\u001B[0m) -> Dict[\u001B[96mstr\u001B[0m, Any]:                     \u001B[31m│\u001B[0m\n\u001B[31m╰──────────────────────────────────────────────────────────────────────────────────────────────────╯\u001B[0m\n\u001B[1;91mKeyboardInterrupt\u001B[0m\n",
      "text/html": "<pre style=\"white-space:pre;overflow-x:auto;line-height:normal;font-family:Menlo,'DejaVu Sans Mono',consolas,'Courier New',monospace\"><span style=\"color: #800000; text-decoration-color: #800000\">╭─────────────────────────────── </span><span style=\"color: #800000; text-decoration-color: #800000; font-weight: bold\">Traceback </span><span style=\"color: #bf7f7f; text-decoration-color: #bf7f7f; font-weight: bold\">(most recent call last)</span><span style=\"color: #800000; text-decoration-color: #800000\"> ────────────────────────────────╮</span>\n<span style=\"color: #800000; text-decoration-color: #800000\">│</span> in <span style=\"color: #00ff00; text-decoration-color: #00ff00\">&lt;module&gt;</span>:<span style=\"color: #0000ff; text-decoration-color: #0000ff\">2</span>                                                                                    <span style=\"color: #800000; text-decoration-color: #800000\">│</span>\n<span style=\"color: #800000; text-decoration-color: #800000\">│</span>                                                                                                  <span style=\"color: #800000; text-decoration-color: #800000\">│</span>\n<span style=\"color: #800000; text-decoration-color: #800000\">│</span>   <span style=\"color: #7f7f7f; text-decoration-color: #7f7f7f\">1 </span>tester_py = Tester_Pytorch_LightGlue(<span style=\"color: #0000ff; text-decoration-color: #0000ff\">None</span>,<span style=\"color: #808000; text-decoration-color: #808000\">\"cuda\"</span>)                                            <span style=\"color: #800000; text-decoration-color: #800000\">│</span>\n<span style=\"color: #800000; text-decoration-color: #800000\">│</span> <span style=\"color: #800000; text-decoration-color: #800000\">❱ </span>2 tester_py.make_test(size_search=(<span style=\"color: #0000ff; text-decoration-color: #0000ff\">800</span>, <span style=\"color: #0000ff; text-decoration-color: #0000ff\">800</span>),size_patch=(<span style=\"color: #0000ff; text-decoration-color: #0000ff\">400</span>,<span style=\"color: #0000ff; text-decoration-color: #0000ff\">400</span>),verbose=<span style=\"color: #0000ff; text-decoration-color: #0000ff\">True</span>)                <span style=\"color: #800000; text-decoration-color: #800000\">│</span>\n<span style=\"color: #800000; text-decoration-color: #800000\">│</span>   <span style=\"color: #7f7f7f; text-decoration-color: #7f7f7f\">3 </span><span style=\"color: #0000ff; text-decoration-color: #0000ff\">assert</span> <span style=\"color: #0000ff; text-decoration-color: #0000ff\">False</span>                                                                                 <span style=\"color: #800000; text-decoration-color: #800000\">│</span>\n<span style=\"color: #800000; text-decoration-color: #800000\">│</span>   <span style=\"color: #7f7f7f; text-decoration-color: #7f7f7f\">4 </span>                                                                                             <span style=\"color: #800000; text-decoration-color: #800000\">│</span>\n<span style=\"color: #800000; text-decoration-color: #800000\">│</span>                                                                                                  <span style=\"color: #800000; text-decoration-color: #800000\">│</span>\n<span style=\"color: #800000; text-decoration-color: #800000\">│</span> <span style=\"color: #bfbf7f; text-decoration-color: #bfbf7f\">/home/fred/PycharmProjects/Pretrained_UAV_Localization/Tester/</span><span style=\"color: #808000; text-decoration-color: #808000; font-weight: bold\">tester_interface.py</span>:<span style=\"color: #0000ff; text-decoration-color: #0000ff\">176</span> in         <span style=\"color: #800000; text-decoration-color: #800000\">│</span>\n<span style=\"color: #800000; text-decoration-color: #800000\">│</span> <span style=\"color: #00ff00; text-decoration-color: #00ff00\">make_test</span>                                                                                        <span style=\"color: #800000; text-decoration-color: #800000\">│</span>\n<span style=\"color: #800000; text-decoration-color: #800000\">│</span>                                                                                                  <span style=\"color: #800000; text-decoration-color: #800000\">│</span>\n<span style=\"color: #800000; text-decoration-color: #800000\">│</span>   <span style=\"color: #7f7f7f; text-decoration-color: #7f7f7f\">173 </span><span style=\"color: #7f7f7f; text-decoration-color: #7f7f7f\">│   │   │   </span>name_model = <span style=\"color: #00ffff; text-decoration-color: #00ffff\">self</span>.name_model + <span style=\"color: #808000; text-decoration-color: #808000\">\"/\"</span> + pathlib.PurePath(ph[<span style=\"color: #0000ff; text-decoration-color: #0000ff\">0</span>]).parent.name + <span style=\"color: #808000; text-decoration-color: #808000\">\"</span>   <span style=\"color: #800000; text-decoration-color: #800000\">│</span>\n<span style=\"color: #800000; text-decoration-color: #800000\">│</span>   <span style=\"color: #7f7f7f; text-decoration-color: #7f7f7f\">174 </span><span style=\"color: #7f7f7f; text-decoration-color: #7f7f7f\">│   │   │   │   </span>angle_rotation) + <span style=\"color: #808000; text-decoration-color: #808000\">\"_\"</span> + <span style=\"color: #00ffff; text-decoration-color: #00ffff\">str</span>(size_search) + <span style=\"color: #808000; text-decoration-color: #808000\">\"_\"</span> + <span style=\"color: #00ffff; text-decoration-color: #00ffff\">str</span>(size_patch)           <span style=\"color: #800000; text-decoration-color: #800000\">│</span>\n<span style=\"color: #800000; text-decoration-color: #800000\">│</span>   <span style=\"color: #7f7f7f; text-decoration-color: #7f7f7f\">175 </span><span style=\"color: #7f7f7f; text-decoration-color: #7f7f7f\">│   │   │   </span>                                                                               <span style=\"color: #800000; text-decoration-color: #800000\">│</span>\n<span style=\"color: #800000; text-decoration-color: #800000\">│</span> <span style=\"color: #800000; text-decoration-color: #800000\">❱ </span>176 <span style=\"color: #7f7f7f; text-decoration-color: #7f7f7f\">│   │   │   </span>results = do_test(<span style=\"color: #00ffff; text-decoration-color: #00ffff\">self</span>.make_inference, parameters,ii, size_search=size_searc   <span style=\"color: #800000; text-decoration-color: #800000\">│</span>\n<span style=\"color: #800000; text-decoration-color: #800000\">│</span>   <span style=\"color: #7f7f7f; text-decoration-color: #7f7f7f\">177 </span><span style=\"color: #7f7f7f; text-decoration-color: #7f7f7f\">│   │   │   │   │   │   │     </span>size_patch=size_patch, verbose=verbose, configs_ransac=con   <span style=\"color: #800000; text-decoration-color: #800000\">│</span>\n<span style=\"color: #800000; text-decoration-color: #800000\">│</span>   <span style=\"color: #7f7f7f; text-decoration-color: #7f7f7f\">178 </span><span style=\"color: #7f7f7f; text-decoration-color: #7f7f7f\">│   │   │   │   │   │   │     </span>threshold_inliers=threshold_inliers, random_select=random_   <span style=\"color: #800000; text-decoration-color: #800000\">│</span>\n<span style=\"color: #800000; text-decoration-color: #800000\">│</span>   <span style=\"color: #7f7f7f; text-decoration-color: #7f7f7f\">179 </span><span style=\"color: #7f7f7f; text-decoration-color: #7f7f7f\">│   │   │   │   │   │   │     </span>name_model=name_model, angle_rotation=angle_rotation)        <span style=\"color: #800000; text-decoration-color: #800000\">│</span>\n<span style=\"color: #800000; text-decoration-color: #800000\">│</span>                                                                                                  <span style=\"color: #800000; text-decoration-color: #800000\">│</span>\n<span style=\"color: #800000; text-decoration-color: #800000\">│</span> <span style=\"color: #bfbf7f; text-decoration-color: #bfbf7f\">/home/fred/PycharmProjects/Pretrained_UAV_Localization/Tester/</span><span style=\"color: #808000; text-decoration-color: #808000; font-weight: bold\">tester.py</span>:<span style=\"color: #0000ff; text-decoration-color: #0000ff\">661</span> in <span style=\"color: #00ff00; text-decoration-color: #00ff00\">do_test</span>           <span style=\"color: #800000; text-decoration-color: #800000\">│</span>\n<span style=\"color: #800000; text-decoration-color: #800000\">│</span>                                                                                                  <span style=\"color: #800000; text-decoration-color: #800000\">│</span>\n<span style=\"color: #800000; text-decoration-color: #800000\">│</span>   <span style=\"color: #7f7f7f; text-decoration-color: #7f7f7f\">658 </span><span style=\"color: #7f7f7f; text-decoration-color: #7f7f7f\">│   </span>                                                                                       <span style=\"color: #800000; text-decoration-color: #800000\">│</span>\n<span style=\"color: #800000; text-decoration-color: #800000\">│</span>   <span style=\"color: #7f7f7f; text-decoration-color: #7f7f7f\">659 </span><span style=\"color: #7f7f7f; text-decoration-color: #7f7f7f\">│   </span>patch,search,sh0,sh1,off_x,off_y = get_sample(ph, size_search, size_patch,rnd=<span style=\"color: #0000ff; text-decoration-color: #0000ff\">False</span>)   <span style=\"color: #800000; text-decoration-color: #800000\">│</span>\n<span style=\"color: #800000; text-decoration-color: #800000\">│</span>   <span style=\"color: #7f7f7f; text-decoration-color: #7f7f7f\">660 </span><span style=\"color: #7f7f7f; text-decoration-color: #7f7f7f\">│   </span>results = <span style=\"color: #0000ff; text-decoration-color: #0000ff\">None</span>                                                                         <span style=\"color: #800000; text-decoration-color: #800000\">│</span>\n<span style=\"color: #800000; text-decoration-color: #800000\">│</span> <span style=\"color: #800000; text-decoration-color: #800000\">❱ </span>661 <span style=\"color: #7f7f7f; text-decoration-color: #7f7f7f\">│   </span>prediction = predict( matcher_in, search,patch,angle_rotation=angle_rotation)          <span style=\"color: #800000; text-decoration-color: #800000\">│</span>\n<span style=\"color: #800000; text-decoration-color: #800000\">│</span>   <span style=\"color: #7f7f7f; text-decoration-color: #7f7f7f\">662 </span><span style=\"color: #7f7f7f; text-decoration-color: #7f7f7f\">│   </span>                                                                                       <span style=\"color: #800000; text-decoration-color: #800000\">│</span>\n<span style=\"color: #800000; text-decoration-color: #800000\">│</span>   <span style=\"color: #7f7f7f; text-decoration-color: #7f7f7f\">663 </span><span style=\"color: #7f7f7f; text-decoration-color: #7f7f7f\">│   </span><span style=\"color: #0000ff; text-decoration-color: #0000ff\">if</span> prediction <span style=\"color: #ff00ff; text-decoration-color: #ff00ff\">is</span> <span style=\"color: #ff00ff; text-decoration-color: #ff00ff\">not</span> <span style=\"color: #0000ff; text-decoration-color: #0000ff\">None</span>:                                                             <span style=\"color: #800000; text-decoration-color: #800000\">│</span>\n<span style=\"color: #800000; text-decoration-color: #800000\">│</span>   <span style=\"color: #7f7f7f; text-decoration-color: #7f7f7f\">664 </span><span style=\"color: #7f7f7f; text-decoration-color: #7f7f7f\">│   │   </span>mkpts0, mkpts1, mconf= prediction                                                  <span style=\"color: #800000; text-decoration-color: #800000\">│</span>\n<span style=\"color: #800000; text-decoration-color: #800000\">│</span>                                                                                                  <span style=\"color: #800000; text-decoration-color: #800000\">│</span>\n<span style=\"color: #800000; text-decoration-color: #800000\">│</span> <span style=\"color: #bfbf7f; text-decoration-color: #bfbf7f\">/home/fred/PycharmProjects/Pretrained_UAV_Localization/Tester/</span><span style=\"color: #808000; text-decoration-color: #808000; font-weight: bold\">tester.py</span>:<span style=\"color: #0000ff; text-decoration-color: #0000ff\">626</span> in <span style=\"color: #00ff00; text-decoration-color: #00ff00\">predict</span>           <span style=\"color: #800000; text-decoration-color: #800000\">│</span>\n<span style=\"color: #800000; text-decoration-color: #800000\">│</span>                                                                                                  <span style=\"color: #800000; text-decoration-color: #800000\">│</span>\n<span style=\"color: #800000; text-decoration-color: #800000\">│</span>   <span style=\"color: #7f7f7f; text-decoration-color: #7f7f7f\">623 </span><span style=\"color: #7f7f7f; text-decoration-color: #7f7f7f\">│   │   │   </span><span style=\"color: #0000ff; text-decoration-color: #0000ff\">import</span> <span style=\"color: #00ffff; text-decoration-color: #00ffff; text-decoration: underline\">time</span>                                                                    <span style=\"color: #800000; text-decoration-color: #800000\">│</span>\n<span style=\"color: #800000; text-decoration-color: #800000\">│</span>   <span style=\"color: #7f7f7f; text-decoration-color: #7f7f7f\">624 </span><span style=\"color: #7f7f7f; text-decoration-color: #7f7f7f\">│   │   │   </span>st = time.time()                                                               <span style=\"color: #800000; text-decoration-color: #800000\">│</span>\n<span style=\"color: #800000; text-decoration-color: #800000\">│</span>   <span style=\"color: #7f7f7f; text-decoration-color: #7f7f7f\">625 </span><span style=\"color: #7f7f7f; text-decoration-color: #7f7f7f\">│   │   </span><span style=\"color: #7f7f7f; text-decoration-color: #7f7f7f\">#try:</span>                                                                              <span style=\"color: #800000; text-decoration-color: #800000\">│</span>\n<span style=\"color: #800000; text-decoration-color: #800000\">│</span> <span style=\"color: #800000; text-decoration-color: #800000\">❱ </span>626 <span style=\"color: #7f7f7f; text-decoration-color: #7f7f7f\">│   │   </span>mkpts0, mkpts1, mconf = matcher(img0, img1)                                        <span style=\"color: #800000; text-decoration-color: #800000\">│</span>\n<span style=\"color: #800000; text-decoration-color: #800000\">│</span>   <span style=\"color: #7f7f7f; text-decoration-color: #7f7f7f\">627 </span><span style=\"color: #7f7f7f; text-decoration-color: #7f7f7f\">│   │   </span><span style=\"color: #7f7f7f; text-decoration-color: #7f7f7f\">#except:</span>                                                                           <span style=\"color: #800000; text-decoration-color: #800000\">│</span>\n<span style=\"color: #800000; text-decoration-color: #800000\">│</span>   <span style=\"color: #7f7f7f; text-decoration-color: #7f7f7f\">628 </span><span style=\"color: #7f7f7f; text-decoration-color: #7f7f7f\">│   │   </span><span style=\"color: #7f7f7f; text-decoration-color: #7f7f7f\">#    return None</span>                                                                   <span style=\"color: #800000; text-decoration-color: #800000\">│</span>\n<span style=\"color: #800000; text-decoration-color: #800000\">│</span>   <span style=\"color: #7f7f7f; text-decoration-color: #7f7f7f\">629 </span><span style=\"color: #7f7f7f; text-decoration-color: #7f7f7f\">│      </span><span style=\"color: #7f7f7f; text-decoration-color: #7f7f7f\"># print(\"chec valid\",1)</span>                                                             <span style=\"color: #800000; text-decoration-color: #800000\">│</span>\n<span style=\"color: #800000; text-decoration-color: #800000\">│</span>                                                                                                  <span style=\"color: #800000; text-decoration-color: #800000\">│</span>\n<span style=\"color: #800000; text-decoration-color: #800000\">│</span> <span style=\"color: #bfbf7f; text-decoration-color: #bfbf7f\">/home/fred/PycharmProjects/Pretrained_UAV_Localization/Tester/</span><span style=\"color: #808000; text-decoration-color: #808000; font-weight: bold\">tester_interface.py</span>:<span style=\"color: #0000ff; text-decoration-color: #0000ff\">508</span> in         <span style=\"color: #800000; text-decoration-color: #800000\">│</span>\n<span style=\"color: #800000; text-decoration-color: #800000\">│</span> <span style=\"color: #00ff00; text-decoration-color: #00ff00\">make_inference</span>                                                                                   <span style=\"color: #800000; text-decoration-color: #800000\">│</span>\n<span style=\"color: #800000; text-decoration-color: #800000\">│</span>                                                                                                  <span style=\"color: #800000; text-decoration-color: #800000\">│</span>\n<span style=\"color: #800000; text-decoration-color: #800000\">│</span>   <span style=\"color: #7f7f7f; text-decoration-color: #7f7f7f\">505 </span><span style=\"color: #7f7f7f; text-decoration-color: #7f7f7f\">│   │   </span>image1, scales1 = load_image(img1, resize=<span style=\"color: #0000ff; text-decoration-color: #0000ff\">1024</span>)                                    <span style=\"color: #800000; text-decoration-color: #800000\">│</span>\n<span style=\"color: #800000; text-decoration-color: #800000\">│</span>   <span style=\"color: #7f7f7f; text-decoration-color: #7f7f7f\">506 </span><span style=\"color: #7f7f7f; text-decoration-color: #7f7f7f\">│   │   </span>                                                                                   <span style=\"color: #800000; text-decoration-color: #800000\">│</span>\n<span style=\"color: #800000; text-decoration-color: #800000\">│</span>   <span style=\"color: #7f7f7f; text-decoration-color: #7f7f7f\">507 </span><span style=\"color: #7f7f7f; text-decoration-color: #7f7f7f\">│   │   </span><span style=\"color: #7f7f7f; text-decoration-color: #7f7f7f\"># extraction + matching + rescale keypoints to original image size</span>                 <span style=\"color: #800000; text-decoration-color: #800000\">│</span>\n<span style=\"color: #800000; text-decoration-color: #800000\">│</span> <span style=\"color: #800000; text-decoration-color: #800000\">❱ </span>508 <span style=\"color: #7f7f7f; text-decoration-color: #7f7f7f\">│   │   </span>pred = match_pair(<span style=\"color: #00ffff; text-decoration-color: #00ffff\">self</span>.extractor, <span style=\"color: #00ffff; text-decoration-color: #00ffff\">self</span>.matcher, image0, image1,                    <span style=\"color: #800000; text-decoration-color: #800000\">│</span>\n<span style=\"color: #800000; text-decoration-color: #800000\">│</span>   <span style=\"color: #7f7f7f; text-decoration-color: #7f7f7f\">509 </span><span style=\"color: #7f7f7f; text-decoration-color: #7f7f7f\">│   │   │   │   │   │     </span>scales0=scales0, scales1=scales1)                                <span style=\"color: #800000; text-decoration-color: #800000\">│</span>\n<span style=\"color: #800000; text-decoration-color: #800000\">│</span>   <span style=\"color: #7f7f7f; text-decoration-color: #7f7f7f\">510 </span><span style=\"color: #7f7f7f; text-decoration-color: #7f7f7f\">│   │   </span>                                                                                   <span style=\"color: #800000; text-decoration-color: #800000\">│</span>\n<span style=\"color: #800000; text-decoration-color: #800000\">│</span>   <span style=\"color: #7f7f7f; text-decoration-color: #7f7f7f\">511 </span><span style=\"color: #7f7f7f; text-decoration-color: #7f7f7f\">│   │   </span>kpts0, kpts1, matches = pred[<span style=\"color: #808000; text-decoration-color: #808000\">'keypoints0'</span>], pred[<span style=\"color: #808000; text-decoration-color: #808000\">'keypoints1'</span>], pred[<span style=\"color: #808000; text-decoration-color: #808000\">'matches'</span>]    <span style=\"color: #800000; text-decoration-color: #800000\">│</span>\n<span style=\"color: #800000; text-decoration-color: #800000\">│</span>                                                                                                  <span style=\"color: #800000; text-decoration-color: #800000\">│</span>\n<span style=\"color: #800000; text-decoration-color: #800000\">│</span> <span style=\"color: #bfbf7f; text-decoration-color: #bfbf7f\">/home/fred/PycharmProjects/Pretrained_UAV_Localization/LightGlue/lightglue/</span><span style=\"color: #808000; text-decoration-color: #808000; font-weight: bold\">utils.py</span>:<span style=\"color: #0000ff; text-decoration-color: #0000ff\">80</span> in        <span style=\"color: #800000; text-decoration-color: #800000\">│</span>\n<span style=\"color: #800000; text-decoration-color: #800000\">│</span> <span style=\"color: #00ff00; text-decoration-color: #00ff00\">match_pair</span>                                                                                       <span style=\"color: #800000; text-decoration-color: #800000\">│</span>\n<span style=\"color: #800000; text-decoration-color: #800000\">│</span>                                                                                                  <span style=\"color: #800000; text-decoration-color: #800000\">│</span>\n<span style=\"color: #800000; text-decoration-color: #800000\">│</span>   <span style=\"color: #7f7f7f; text-decoration-color: #7f7f7f\">77 </span><span style=\"color: #7f7f7f; text-decoration-color: #7f7f7f\">│   </span><span style=\"color: #0000ff; text-decoration-color: #0000ff\">if</span> scales1 <span style=\"color: #ff00ff; text-decoration-color: #ff00ff\">is</span> <span style=\"color: #ff00ff; text-decoration-color: #ff00ff\">not</span> <span style=\"color: #0000ff; text-decoration-color: #0000ff\">None</span>:                                                                 <span style=\"color: #800000; text-decoration-color: #800000\">│</span>\n<span style=\"color: #800000; text-decoration-color: #800000\">│</span>   <span style=\"color: #7f7f7f; text-decoration-color: #7f7f7f\">78 </span><span style=\"color: #7f7f7f; text-decoration-color: #7f7f7f\">│   │   </span>pred[<span style=\"color: #808000; text-decoration-color: #808000\">'keypoints1'</span>] = (pred[<span style=\"color: #808000; text-decoration-color: #808000\">'keypoints1'</span>] + <span style=\"color: #0000ff; text-decoration-color: #0000ff\">0.5</span>) / scales1[<span style=\"color: #0000ff; text-decoration-color: #0000ff\">None</span>] - <span style=\"color: #0000ff; text-decoration-color: #0000ff\">0.5</span>               <span style=\"color: #800000; text-decoration-color: #800000\">│</span>\n<span style=\"color: #800000; text-decoration-color: #800000\">│</span>   <span style=\"color: #7f7f7f; text-decoration-color: #7f7f7f\">79 </span><span style=\"color: #7f7f7f; text-decoration-color: #7f7f7f\">│   </span><span style=\"color: #0000ff; text-decoration-color: #0000ff\">del</span> feats0, feats1                                                                      <span style=\"color: #800000; text-decoration-color: #800000\">│</span>\n<span style=\"color: #800000; text-decoration-color: #800000\">│</span> <span style=\"color: #800000; text-decoration-color: #800000\">❱ </span>80 <span style=\"color: #7f7f7f; text-decoration-color: #7f7f7f\">│   </span>torch.cuda.empty_cache()                                                                <span style=\"color: #800000; text-decoration-color: #800000\">│</span>\n<span style=\"color: #800000; text-decoration-color: #800000\">│</span>   <span style=\"color: #7f7f7f; text-decoration-color: #7f7f7f\">81 </span><span style=\"color: #7f7f7f; text-decoration-color: #7f7f7f\">│   </span>                                                                                        <span style=\"color: #800000; text-decoration-color: #800000\">│</span>\n<span style=\"color: #800000; text-decoration-color: #800000\">│</span>   <span style=\"color: #7f7f7f; text-decoration-color: #7f7f7f\">82 </span><span style=\"color: #7f7f7f; text-decoration-color: #7f7f7f\">│   </span><span style=\"color: #7f7f7f; text-decoration-color: #7f7f7f\"># create match indices</span>                                                                  <span style=\"color: #800000; text-decoration-color: #800000\">│</span>\n<span style=\"color: #800000; text-decoration-color: #800000\">│</span>   <span style=\"color: #7f7f7f; text-decoration-color: #7f7f7f\">83 </span><span style=\"color: #7f7f7f; text-decoration-color: #7f7f7f\">│   </span>kpts0, kpts1 = pred[<span style=\"color: #808000; text-decoration-color: #808000\">'keypoints0'</span>], pred[<span style=\"color: #808000; text-decoration-color: #808000\">'keypoints1'</span>]                                   <span style=\"color: #800000; text-decoration-color: #800000\">│</span>\n<span style=\"color: #800000; text-decoration-color: #800000\">│</span>                                                                                                  <span style=\"color: #800000; text-decoration-color: #800000\">│</span>\n<span style=\"color: #800000; text-decoration-color: #800000\">│</span> <span style=\"color: #bfbf7f; text-decoration-color: #bfbf7f\">/home/fred/anaconda3/envs/pythonProject/lib/python3.10/site-packages/torch/cuda/</span><span style=\"color: #808000; text-decoration-color: #808000; font-weight: bold\">memory.py</span>:<span style=\"color: #0000ff; text-decoration-color: #0000ff\">125</span> in <span style=\"color: #800000; text-decoration-color: #800000\">│</span>\n<span style=\"color: #800000; text-decoration-color: #800000\">│</span> <span style=\"color: #00ff00; text-decoration-color: #00ff00\">empty_cache</span>                                                                                      <span style=\"color: #800000; text-decoration-color: #800000\">│</span>\n<span style=\"color: #800000; text-decoration-color: #800000\">│</span>                                                                                                  <span style=\"color: #800000; text-decoration-color: #800000\">│</span>\n<span style=\"color: #800000; text-decoration-color: #800000\">│</span>   <span style=\"color: #7f7f7f; text-decoration-color: #7f7f7f\">122 </span><span style=\"color: #bfbf7f; text-decoration-color: #bfbf7f\">│   │   </span><span style=\"color: #808000; text-decoration-color: #808000\">more details about GPU memory management.</span>                                          <span style=\"color: #800000; text-decoration-color: #800000\">│</span>\n<span style=\"color: #800000; text-decoration-color: #800000\">│</span>   <span style=\"color: #7f7f7f; text-decoration-color: #7f7f7f\">123 </span><span style=\"color: #bfbf7f; text-decoration-color: #bfbf7f\">│   </span><span style=\"color: #808000; text-decoration-color: #808000\">\"\"\"</span>                                                                                    <span style=\"color: #800000; text-decoration-color: #800000\">│</span>\n<span style=\"color: #800000; text-decoration-color: #800000\">│</span>   <span style=\"color: #7f7f7f; text-decoration-color: #7f7f7f\">124 </span><span style=\"color: #7f7f7f; text-decoration-color: #7f7f7f\">│   </span><span style=\"color: #0000ff; text-decoration-color: #0000ff\">if</span> is_initialized():                                                                   <span style=\"color: #800000; text-decoration-color: #800000\">│</span>\n<span style=\"color: #800000; text-decoration-color: #800000\">│</span> <span style=\"color: #800000; text-decoration-color: #800000\">❱ </span>125 <span style=\"color: #7f7f7f; text-decoration-color: #7f7f7f\">│   │   </span>torch._C._cuda_emptyCache()                                                        <span style=\"color: #800000; text-decoration-color: #800000\">│</span>\n<span style=\"color: #800000; text-decoration-color: #800000\">│</span>   <span style=\"color: #7f7f7f; text-decoration-color: #7f7f7f\">126 </span>                                                                                           <span style=\"color: #800000; text-decoration-color: #800000\">│</span>\n<span style=\"color: #800000; text-decoration-color: #800000\">│</span>   <span style=\"color: #7f7f7f; text-decoration-color: #7f7f7f\">127 </span>                                                                                           <span style=\"color: #800000; text-decoration-color: #800000\">│</span>\n<span style=\"color: #800000; text-decoration-color: #800000\">│</span>   <span style=\"color: #7f7f7f; text-decoration-color: #7f7f7f\">128 </span><span style=\"color: #0000ff; text-decoration-color: #0000ff\">def</span> <span style=\"color: #00ff00; text-decoration-color: #00ff00\">memory_stats</span>(device: Union[Device, <span style=\"color: #00ffff; text-decoration-color: #00ffff\">int</span>] = <span style=\"color: #0000ff; text-decoration-color: #0000ff\">None</span>) -&gt; Dict[<span style=\"color: #00ffff; text-decoration-color: #00ffff\">str</span>, Any]:                     <span style=\"color: #800000; text-decoration-color: #800000\">│</span>\n<span style=\"color: #800000; text-decoration-color: #800000\">╰──────────────────────────────────────────────────────────────────────────────────────────────────╯</span>\n<span style=\"color: #ff0000; text-decoration-color: #ff0000; font-weight: bold\">KeyboardInterrupt</span>\n</pre>\n"
     },
     "metadata": {},
     "output_type": "display_data"
    }
   ],
   "source": [
    "tester_py = Tester_Pytorch_LightGlue(None,\"cuda\")\n",
    "tester_py.make_test(size_search=(800, 800),size_patch=(400,400),verbose=True)\n",
    "assert False"
   ],
   "metadata": {
    "collapsed": false
   }
  },
  {
   "cell_type": "code",
   "execution_count": null,
   "outputs": [],
   "source": [
    "\n",
    "tester_py = Tester_Pytorch_DFM(get_matcher_DFM(),\"cuda\")\n",
    "tester_py.make_test(size_search=(800, 800),size_patch=(400,400),verbose=True)\n",
    "assert False"
   ],
   "metadata": {
    "collapsed": false
   }
  },
  {
   "cell_type": "code",
   "execution_count": null,
   "outputs": [],
   "source": [
    "tester_py = Tester_Pytorch_ALIKE(get_matcher_ALIKE(),\"cuda\")\n",
    "tester_py.make_test(size_search=(800, 800),size_patch=(400,400),verbose=True)\n",
    "assert False"
   ],
   "metadata": {
    "collapsed": false
   }
  },
  {
   "cell_type": "code",
   "execution_count": 7,
   "outputs": [
    {
     "name": "stderr",
     "output_type": "stream",
     "text": [
      "Global seed set to 66\n",
      "2023-06-29 14:09:45.843 | INFO     | TopicFM.src.lightning_trainer.trainer:__init__:49 - Load '../TopicFM/pretrained/model_best.ckpt' as pretrained checkpoint\n",
      "  0%|          | 1/408 [00:00<05:40,  1.19it/s]"
     ]
    },
    {
     "name": "stdout",
     "output_type": "stream",
     "text": [
      "{'min_samples': 0, 'residual_threshold': -1, 'max_trials': 0, 'rmse': 342.309814453125, 'inliers': 998}\n",
      "{'min_samples': 4, 'residual_threshold': 7, 'max_trials': 100, 'rmse': 6.702742099761963, 'inliers': 22}\n",
      "{'min_samples': 4, 'residual_threshold': 10, 'max_trials': 100, 'rmse': 208.887451171875, 'inliers': 30}\n",
      "{'min_samples': 4, 'residual_threshold': 15, 'max_trials': 100, 'rmse': 248.56686401367188, 'inliers': 25}\n",
      "{'min_samples': 4, 'residual_threshold': 20, 'max_trials': 100, 'rmse': 224.05665588378906, 'inliers': 31}\n",
      "{'min_samples': 4, 'residual_threshold': 25, 'max_trials': 100, 'rmse': 288.9223937988281, 'inliers': 29}\n"
     ]
    },
    {
     "name": "stderr",
     "output_type": "stream",
     "text": [
      "  0%|          | 2/408 [00:01<04:26,  1.52it/s]"
     ]
    },
    {
     "name": "stdout",
     "output_type": "stream",
     "text": [
      "{'min_samples': 0, 'residual_threshold': -1, 'max_trials': 0, 'rmse': 304.9342956542969, 'inliers': 921}\n",
      "{'min_samples': 4, 'residual_threshold': 7, 'max_trials': 100, 'rmse': 10.792684555053711, 'inliers': 141}\n",
      "{'min_samples': 4, 'residual_threshold': 10, 'max_trials': 100, 'rmse': 8.994138717651367, 'inliers': 155}\n",
      "{'min_samples': 4, 'residual_threshold': 15, 'max_trials': 100, 'rmse': 2.6905415058135986, 'inliers': 89}\n",
      "{'min_samples': 4, 'residual_threshold': 20, 'max_trials': 100, 'rmse': 248.873291015625, 'inliers': 26}\n",
      "{'min_samples': 4, 'residual_threshold': 25, 'max_trials': 100, 'rmse': 8.112998962402344, 'inliers': 35}\n"
     ]
    },
    {
     "name": "stderr",
     "output_type": "stream",
     "text": [
      "  1%|          | 3/408 [00:01<04:00,  1.68it/s]"
     ]
    },
    {
     "name": "stdout",
     "output_type": "stream",
     "text": [
      "{'min_samples': 0, 'residual_threshold': -1, 'max_trials': 0, 'rmse': 205.8727569580078, 'inliers': 1090}\n",
      "{'min_samples': 4, 'residual_threshold': 7, 'max_trials': 100, 'rmse': 5.0593953132629395, 'inliers': 311}\n",
      "{'min_samples': 4, 'residual_threshold': 10, 'max_trials': 100, 'rmse': 8.41090202331543, 'inliers': 351}\n",
      "{'min_samples': 4, 'residual_threshold': 15, 'max_trials': 100, 'rmse': 3.6969780921936035, 'inliers': 319}\n",
      "{'min_samples': 4, 'residual_threshold': 20, 'max_trials': 100, 'rmse': 16.353940963745117, 'inliers': 174}\n",
      "{'min_samples': 4, 'residual_threshold': 25, 'max_trials': 100, 'rmse': 13.728107452392578, 'inliers': 155}\n"
     ]
    },
    {
     "name": "stderr",
     "output_type": "stream",
     "text": [
      "  1%|          | 4/408 [00:02<03:48,  1.77it/s]"
     ]
    },
    {
     "name": "stdout",
     "output_type": "stream",
     "text": [
      "{'min_samples': 0, 'residual_threshold': -1, 'max_trials': 0, 'rmse': 9.045815467834473, 'inliers': 1023}\n",
      "{'min_samples': 4, 'residual_threshold': 7, 'max_trials': 100, 'rmse': 13.852107048034668, 'inliers': 262}\n",
      "{'min_samples': 4, 'residual_threshold': 10, 'max_trials': 100, 'rmse': 12.259703636169434, 'inliers': 297}\n",
      "{'min_samples': 4, 'residual_threshold': 15, 'max_trials': 100, 'rmse': 3.6027607917785645, 'inliers': 177}\n",
      "{'min_samples': 4, 'residual_threshold': 20, 'max_trials': 100, 'rmse': 11.357720375061035, 'inliers': 136}\n",
      "{'min_samples': 4, 'residual_threshold': 25, 'max_trials': 100, 'rmse': 10.495553016662598, 'inliers': 158}\n"
     ]
    },
    {
     "name": "stderr",
     "output_type": "stream",
     "text": [
      "  1%|          | 5/408 [00:03<04:11,  1.60it/s]"
     ]
    },
    {
     "name": "stdout",
     "output_type": "stream",
     "text": [
      "{'min_samples': 0, 'residual_threshold': -1, 'max_trials': 0, 'rmse': 4.878382682800293, 'inliers': 883}\n",
      "{'min_samples': 4, 'residual_threshold': 7, 'max_trials': 100, 'rmse': 9.674468040466309, 'inliers': 484}\n",
      "{'min_samples': 4, 'residual_threshold': 10, 'max_trials': 100, 'rmse': 14.389883995056152, 'inliers': 540}\n",
      "{'min_samples': 4, 'residual_threshold': 15, 'max_trials': 100, 'rmse': 2.293120861053467, 'inliers': 568}\n",
      "{'min_samples': 4, 'residual_threshold': 20, 'max_trials': 100, 'rmse': 13.566439628601074, 'inliers': 581}\n",
      "{'min_samples': 4, 'residual_threshold': 25, 'max_trials': 100, 'rmse': 10.965784072875977, 'inliers': 586}\n"
     ]
    },
    {
     "name": "stderr",
     "output_type": "stream",
     "text": [
      "\n"
     ]
    },
    {
     "data": {
      "text/plain": "\u001B[31m╭─\u001B[0m\u001B[31m──────────────────────────────\u001B[0m\u001B[31m \u001B[0m\u001B[1;31mTraceback \u001B[0m\u001B[1;2;31m(most recent call last)\u001B[0m\u001B[31m \u001B[0m\u001B[31m───────────────────────────────\u001B[0m\u001B[31m─╮\u001B[0m\n\u001B[31m│\u001B[0m in \u001B[92m<module>\u001B[0m:\u001B[94m3\u001B[0m                                                                                    \u001B[31m│\u001B[0m\n\u001B[31m│\u001B[0m                                                                                                  \u001B[31m│\u001B[0m\n\u001B[31m│\u001B[0m   \u001B[2m1 \u001B[0mtester_py = Tester_Pytorch_TopicFM(get_matcher_TopicFM(),\u001B[33m\"\u001B[0m\u001B[33mcuda\u001B[0m\u001B[33m\"\u001B[0m)                             \u001B[31m│\u001B[0m\n\u001B[31m│\u001B[0m   \u001B[2m2 \u001B[0m                                                                                             \u001B[31m│\u001B[0m\n\u001B[31m│\u001B[0m \u001B[31m❱ \u001B[0m3 tester_py.make_test(size_search=(\u001B[94m800\u001B[0m, \u001B[94m800\u001B[0m),size_patch=(\u001B[94m400\u001B[0m,\u001B[94m400\u001B[0m),verbose=\u001B[94mTrue\u001B[0m)                \u001B[31m│\u001B[0m\n\u001B[31m│\u001B[0m   \u001B[2m4 \u001B[0m                                                                                             \u001B[31m│\u001B[0m\n\u001B[31m│\u001B[0m                                                                                                  \u001B[31m│\u001B[0m\n\u001B[31m│\u001B[0m \u001B[2;33m/home/fred/PycharmProjects/Pretrained_UAV_Localization/Tester/\u001B[0m\u001B[1;33mtester_interface.py\u001B[0m:\u001B[94m167\u001B[0m in         \u001B[31m│\u001B[0m\n\u001B[31m│\u001B[0m \u001B[92mmake_test\u001B[0m                                                                                        \u001B[31m│\u001B[0m\n\u001B[31m│\u001B[0m                                                                                                  \u001B[31m│\u001B[0m\n\u001B[31m│\u001B[0m   \u001B[2m164 \u001B[0m\u001B[2m│   │   │   \u001B[0mllh, uavsar = rotate_llh_map(uavsar, llh, path_s1)                             \u001B[31m│\u001B[0m\n\u001B[31m│\u001B[0m   \u001B[2m165 \u001B[0m\u001B[2m│   │   │   \u001B[0m                                                                               \u001B[31m│\u001B[0m\n\u001B[31m│\u001B[0m   \u001B[2m166 \u001B[0m\u001B[2m│   │   │   \u001B[0muavsar = uavsar                                                                \u001B[31m│\u001B[0m\n\u001B[31m│\u001B[0m \u001B[31m❱ \u001B[0m167 \u001B[2m│   │   │   \u001B[0ms1_norm_log = rasterio.open(path_s1).read()[\u001B[94m0\u001B[0m, :, :]                           \u001B[31m│\u001B[0m\n\u001B[31m│\u001B[0m   \u001B[2m168 \u001B[0m                                                                                           \u001B[31m│\u001B[0m\n\u001B[31m│\u001B[0m   \u001B[2m169 \u001B[0m                                                                                           \u001B[31m│\u001B[0m\n\u001B[31m│\u001B[0m   \u001B[2m170 \u001B[0m                                                                                           \u001B[31m│\u001B[0m\n\u001B[31m╰──────────────────────────────────────────────────────────────────────────────────────────────────╯\u001B[0m\n\u001B[1;91mKeyboardInterrupt\u001B[0m\n",
      "text/html": "<pre style=\"white-space:pre;overflow-x:auto;line-height:normal;font-family:Menlo,'DejaVu Sans Mono',consolas,'Courier New',monospace\"><span style=\"color: #800000; text-decoration-color: #800000\">╭─────────────────────────────── </span><span style=\"color: #800000; text-decoration-color: #800000; font-weight: bold\">Traceback </span><span style=\"color: #bf7f7f; text-decoration-color: #bf7f7f; font-weight: bold\">(most recent call last)</span><span style=\"color: #800000; text-decoration-color: #800000\"> ────────────────────────────────╮</span>\n<span style=\"color: #800000; text-decoration-color: #800000\">│</span> in <span style=\"color: #00ff00; text-decoration-color: #00ff00\">&lt;module&gt;</span>:<span style=\"color: #0000ff; text-decoration-color: #0000ff\">3</span>                                                                                    <span style=\"color: #800000; text-decoration-color: #800000\">│</span>\n<span style=\"color: #800000; text-decoration-color: #800000\">│</span>                                                                                                  <span style=\"color: #800000; text-decoration-color: #800000\">│</span>\n<span style=\"color: #800000; text-decoration-color: #800000\">│</span>   <span style=\"color: #7f7f7f; text-decoration-color: #7f7f7f\">1 </span>tester_py = Tester_Pytorch_TopicFM(get_matcher_TopicFM(),<span style=\"color: #808000; text-decoration-color: #808000\">\"cuda\"</span>)                             <span style=\"color: #800000; text-decoration-color: #800000\">│</span>\n<span style=\"color: #800000; text-decoration-color: #800000\">│</span>   <span style=\"color: #7f7f7f; text-decoration-color: #7f7f7f\">2 </span>                                                                                             <span style=\"color: #800000; text-decoration-color: #800000\">│</span>\n<span style=\"color: #800000; text-decoration-color: #800000\">│</span> <span style=\"color: #800000; text-decoration-color: #800000\">❱ </span>3 tester_py.make_test(size_search=(<span style=\"color: #0000ff; text-decoration-color: #0000ff\">800</span>, <span style=\"color: #0000ff; text-decoration-color: #0000ff\">800</span>),size_patch=(<span style=\"color: #0000ff; text-decoration-color: #0000ff\">400</span>,<span style=\"color: #0000ff; text-decoration-color: #0000ff\">400</span>),verbose=<span style=\"color: #0000ff; text-decoration-color: #0000ff\">True</span>)                <span style=\"color: #800000; text-decoration-color: #800000\">│</span>\n<span style=\"color: #800000; text-decoration-color: #800000\">│</span>   <span style=\"color: #7f7f7f; text-decoration-color: #7f7f7f\">4 </span>                                                                                             <span style=\"color: #800000; text-decoration-color: #800000\">│</span>\n<span style=\"color: #800000; text-decoration-color: #800000\">│</span>                                                                                                  <span style=\"color: #800000; text-decoration-color: #800000\">│</span>\n<span style=\"color: #800000; text-decoration-color: #800000\">│</span> <span style=\"color: #bfbf7f; text-decoration-color: #bfbf7f\">/home/fred/PycharmProjects/Pretrained_UAV_Localization/Tester/</span><span style=\"color: #808000; text-decoration-color: #808000; font-weight: bold\">tester_interface.py</span>:<span style=\"color: #0000ff; text-decoration-color: #0000ff\">167</span> in         <span style=\"color: #800000; text-decoration-color: #800000\">│</span>\n<span style=\"color: #800000; text-decoration-color: #800000\">│</span> <span style=\"color: #00ff00; text-decoration-color: #00ff00\">make_test</span>                                                                                        <span style=\"color: #800000; text-decoration-color: #800000\">│</span>\n<span style=\"color: #800000; text-decoration-color: #800000\">│</span>                                                                                                  <span style=\"color: #800000; text-decoration-color: #800000\">│</span>\n<span style=\"color: #800000; text-decoration-color: #800000\">│</span>   <span style=\"color: #7f7f7f; text-decoration-color: #7f7f7f\">164 </span><span style=\"color: #7f7f7f; text-decoration-color: #7f7f7f\">│   │   │   </span>llh, uavsar = rotate_llh_map(uavsar, llh, path_s1)                             <span style=\"color: #800000; text-decoration-color: #800000\">│</span>\n<span style=\"color: #800000; text-decoration-color: #800000\">│</span>   <span style=\"color: #7f7f7f; text-decoration-color: #7f7f7f\">165 </span><span style=\"color: #7f7f7f; text-decoration-color: #7f7f7f\">│   │   │   </span>                                                                               <span style=\"color: #800000; text-decoration-color: #800000\">│</span>\n<span style=\"color: #800000; text-decoration-color: #800000\">│</span>   <span style=\"color: #7f7f7f; text-decoration-color: #7f7f7f\">166 </span><span style=\"color: #7f7f7f; text-decoration-color: #7f7f7f\">│   │   │   </span>uavsar = uavsar                                                                <span style=\"color: #800000; text-decoration-color: #800000\">│</span>\n<span style=\"color: #800000; text-decoration-color: #800000\">│</span> <span style=\"color: #800000; text-decoration-color: #800000\">❱ </span>167 <span style=\"color: #7f7f7f; text-decoration-color: #7f7f7f\">│   │   │   </span>s1_norm_log = rasterio.open(path_s1).read()[<span style=\"color: #0000ff; text-decoration-color: #0000ff\">0</span>, :, :]                           <span style=\"color: #800000; text-decoration-color: #800000\">│</span>\n<span style=\"color: #800000; text-decoration-color: #800000\">│</span>   <span style=\"color: #7f7f7f; text-decoration-color: #7f7f7f\">168 </span>                                                                                           <span style=\"color: #800000; text-decoration-color: #800000\">│</span>\n<span style=\"color: #800000; text-decoration-color: #800000\">│</span>   <span style=\"color: #7f7f7f; text-decoration-color: #7f7f7f\">169 </span>                                                                                           <span style=\"color: #800000; text-decoration-color: #800000\">│</span>\n<span style=\"color: #800000; text-decoration-color: #800000\">│</span>   <span style=\"color: #7f7f7f; text-decoration-color: #7f7f7f\">170 </span>                                                                                           <span style=\"color: #800000; text-decoration-color: #800000\">│</span>\n<span style=\"color: #800000; text-decoration-color: #800000\">╰──────────────────────────────────────────────────────────────────────────────────────────────────╯</span>\n<span style=\"color: #ff0000; text-decoration-color: #ff0000; font-weight: bold\">KeyboardInterrupt</span>\n</pre>\n"
     },
     "metadata": {},
     "output_type": "display_data"
    }
   ],
   "source": [
    "tester_py = Tester_Pytorch_TopicFM(get_matcher_TopicFM(),\"cuda\")\n",
    "\n",
    "tester_py.make_test(size_search=(800, 800),size_patch=(400,400),verbose=True)"
   ],
   "metadata": {
    "collapsed": false
   }
  },
  {
   "cell_type": "code",
   "execution_count": null,
   "outputs": [],
   "source": [
    "import onnxruntime as ort\n",
    "sess_options = ort.SessionOptions()\n",
    "#sessionOptions.enable_sequential_execution = False\n",
    "sess_options.intra_op_num_threads = 1\n",
    "sess_options.execution_mode = ort.ExecutionMode.ORT_SEQUENTIAL\n",
    "tester_onnx = Tester_ONNX(ort.InferenceSession(\"../Tester/model_simplified.onnx\",sess_options=sess_options))\n",
    "tester_onnx.make_test(size_search=(800, 800),size_patch=(400,400))"
   ],
   "metadata": {
    "collapsed": false
   }
  },
  {
   "cell_type": "code",
   "execution_count": null,
   "outputs": [],
   "source": [],
   "metadata": {
    "collapsed": false
   }
  },
  {
   "cell_type": "code",
   "execution_count": null,
   "metadata": {},
   "outputs": [],
   "source": []
  },
  {
   "cell_type": "code",
   "execution_count": null,
   "outputs": [],
   "source": [
    "tester_py = Tester_Pytorch_TopicFM(get_matcher_TopicFM(),\"cuda\")\n",
    "\n",
    "tester_py.make_test(size_search=(800, 800),size_patch=(400,400),angle_rotation=10)\n",
    "tester_py.make_test(size_search=(800, 800),size_patch=(400,400),angle_rotation=20)\n",
    "tester_py.make_test(size_search=(800, 800),size_patch=(400,400),angle_rotation=30)\n",
    "\n",
    "tester_py = Tester_Pytorch_MatchFormer(get_matcher_MatchFormer(),\"cuda\")\n",
    "\n",
    "tester_py.make_test(size_search=(800, 800),size_patch=(400,400),angle_rotation=10)\n",
    "tester_py.make_test(size_search=(800, 800),size_patch=(400,400),angle_rotation=20)\n",
    "tester_py.make_test(size_search=(800, 800),size_patch=(400,400),angle_rotation=30)\n",
    "\n",
    "tester_py = Tester_Pytorch_LoFTR(get_matcher_LoFTR(),\"cuda\")\n",
    "\n",
    "tester_py.make_test(size_search=(800, 800),size_patch=(400,400),angle_rotation=10)\n",
    "tester_py.make_test(size_search=(800, 800),size_patch=(400,400),angle_rotation=20)\n",
    "tester_py.make_test(size_search=(800, 800),size_patch=(400,400),angle_rotation=30)\n",
    "#tester_py.train_epoch()\n",
    "\n",
    "assert False\n",
    "tester_py.make_test(size_search=(800, 720),angle_rotation=5)\n",
    "tester_py.make_test(size_search=(880, 880),angle_rotation=0)\n",
    "\n",
    "tester_py.make_test(size_search=(800, 720),angle_rotation=10)\n",
    "tester_py.make_test(size_search=(800, 720),angle_rotation=20)\n",
    "tester_py.make_test(size_search=(800, 720),angle_rotation=30)\n",
    "tester_py.make_test(size_search=(720, 640),angle_rotation=0)\n",
    "\n"
   ],
   "metadata": {
    "collapsed": false
   }
  },
  {
   "cell_type": "code",
   "execution_count": null,
   "metadata": {},
   "outputs": [],
   "source": [
    "tester_py = Tester_Pytorch_MatchFormer(get_matcher_MatchFormer(),\"cuda\")\n",
    "tester_py.make_test(size_search=(800, 800),size_patch=(800,800))"
   ]
  },
  {
   "cell_type": "code",
   "execution_count": null,
   "metadata": {},
   "outputs": [],
   "source": [
    "tester_py = Tester_Pytorch_LoFTR(get_matcher_LoFTR(),\"cuda\")\n",
    "tester_py.make_test(size_search=(800, 800),size_patch=(800,800))"
   ]
  },
  {
   "cell_type": "code",
   "execution_count": null,
   "metadata": {},
   "outputs": [],
   "source": [
    "#tester_py = Tester_PyTorch_ASpanFormer(get_matcher_ASpanFormer(),\"cuda\")\n",
    "#tester_py.make_test()"
   ]
  },
  {
   "cell_type": "code",
   "execution_count": null,
   "metadata": {},
   "outputs": [],
   "source": [
    "import onnxruntime as ort\n",
    "\n",
    "tester_onnx = Tester_ONNX(ort.InferenceSession(\"../TopicFM/model.onnx\"))\n",
    "tester_onnx.make_test()"
   ]
  },
  {
   "cell_type": "code",
   "execution_count": null,
   "metadata": {},
   "outputs": [],
   "source": [
    "print(\"cvxv\")"
   ]
  },
  {
   "cell_type": "code",
   "execution_count": null,
   "metadata": {},
   "outputs": [],
   "source": []
  }
 ],
 "metadata": {
  "colab": {
   "provenance": []
  },
  "kernelspec": {
   "display_name": "Python 3 (ipykernel)",
   "language": "python",
   "name": "python3"
  },
  "language_info": {
   "codemirror_mode": {
    "name": "ipython",
    "version": 3
   },
   "file_extension": ".py",
   "mimetype": "text/x-python",
   "name": "python",
   "nbconvert_exporter": "python",
   "pygments_lexer": "ipython3",
   "version": "3.10.8"
  }
 },
 "nbformat": 4,
 "nbformat_minor": 1
}
